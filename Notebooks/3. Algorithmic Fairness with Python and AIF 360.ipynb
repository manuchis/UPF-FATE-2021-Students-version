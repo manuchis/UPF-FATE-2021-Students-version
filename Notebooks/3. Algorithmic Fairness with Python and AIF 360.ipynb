{
 "cells": [
  {
   "cell_type": "markdown",
   "metadata": {},
   "source": [
    "# Fairness, Accountability, Transparency and Ethics Course (FATE)\n",
    "\n",
    "\n",
    "## Universitat Pompeu Fabra (UPF)\n",
    "### 21/22\n",
    "\n",
    "**Submission date: 18/03/2021 at 12PM on Aula Global.**\n",
    "\n",
    "Please, implement this notebook **individually**.\n",
    "\n",
    "*Originally created by David Solans (david.solans@upf.edu)"
   ]
  },
  {
   "cell_type": "markdown",
   "metadata": {},
   "source": [
    "**Legend** <br>\n",
    "In this notebook we use:    \n",
    "<div class=\"alert alert-block col-md-7 alert-info\">To recall information from the theory classes and other tips</div>\n",
    "<div class=\"alert alert-block col-md-7 alert-warning\">To point important things that should not be \n",
    "   forgotten</div> \n",
    "<div class=\"alert alert-block col-md-7 alert-success\">To indicate tasks to be done by students</div>"
   ]
  },
  {
   "cell_type": "markdown",
   "metadata": {},
   "source": [
    "# 3. Algorithmic Fairness with Python and IBM AIF360"
   ]
  },
  {
   "cell_type": "markdown",
   "metadata": {},
   "source": [
    "###  Libraries used in this notebook\n",
    "You will need to install: **numpy**, **pandas**, **matplotlib**, and **sklearn**."
   ]
  },
  {
   "cell_type": "code",
   "execution_count": 1,
   "metadata": {},
   "outputs": [],
   "source": [
    "## Required statements\n",
    "import pandas as pd\n",
    "import numpy as np\n",
    "\n",
    "from sklearn import linear_model\n",
    "from sklearn.metrics import mean_squared_error\n",
    "from sklearn.model_selection import train_test_split\n",
    "from sklearn.preprocessing import LabelEncoder\n",
    "from sklearn.linear_model import LogisticRegression\n",
    "from sklearn.preprocessing import StandardScaler\n",
    "from sklearn.metrics import accuracy_score\n",
    "\n",
    "\n",
    "from aif360.datasets import BinaryLabelDataset\n",
    "from aif360.datasets import AdultDataset\n",
    "from aif360.metrics import BinaryLabelDatasetMetric\n",
    "from aif360.metrics import ClassificationMetric\n",
    "\n",
    "from aif360.algorithms.preprocessing.optim_preproc_helpers.data_preproc_functions\\\n",
    "        import load_preproc_data_adult\n",
    "\n",
    "from aif360.metrics import BinaryLabelDatasetMetric\n",
    "\n",
    "from IPython.display import Markdown, display\n",
    "\n",
    "\n",
    "from IPython.display import Markdown, display\n",
    "import matplotlib.pyplot as plt\n",
    "%matplotlib inline"
   ]
  },
  {
   "cell_type": "markdown",
   "metadata": {},
   "source": [
    "# Session 05"
   ]
  },
  {
   "cell_type": "markdown",
   "metadata": {},
   "source": [
    "## 3.0 Introduction\n",
    "<br>\n",
    "<div class=\"alert alert-block alert-info col-md-12\">\n",
    "<p>In previous Lab we were using pandas to load the Adult dataset (See Lab2 notebook).<p>\n",
    "<p>In pandas we would use the following statements to load a dataset:</p>\n",
    "\n",
    "</div>\n",
    "\n",
    "\n",
    "\n",
    "\n"
   ]
  },
  {
   "cell_type": "code",
   "execution_count": 2,
   "metadata": {},
   "outputs": [
    {
     "data": {
      "text/html": [
       "<div>\n",
       "<style scoped>\n",
       "    .dataframe tbody tr th:only-of-type {\n",
       "        vertical-align: middle;\n",
       "    }\n",
       "\n",
       "    .dataframe tbody tr th {\n",
       "        vertical-align: top;\n",
       "    }\n",
       "\n",
       "    .dataframe thead th {\n",
       "        text-align: right;\n",
       "    }\n",
       "</style>\n",
       "<table border=\"1\" class=\"dataframe\">\n",
       "  <thead>\n",
       "    <tr style=\"text-align: right;\">\n",
       "      <th></th>\n",
       "      <th>age</th>\n",
       "      <th>workclass</th>\n",
       "      <th>fnlwgt</th>\n",
       "      <th>education</th>\n",
       "      <th>education-num</th>\n",
       "      <th>marital-status</th>\n",
       "      <th>occupation</th>\n",
       "      <th>relationship</th>\n",
       "      <th>race</th>\n",
       "      <th>sex</th>\n",
       "      <th>capital-gain</th>\n",
       "      <th>capital-loss</th>\n",
       "      <th>hours-per-week</th>\n",
       "      <th>native-country</th>\n",
       "      <th>income</th>\n",
       "    </tr>\n",
       "  </thead>\n",
       "  <tbody>\n",
       "    <tr>\n",
       "      <th>0</th>\n",
       "      <td>39</td>\n",
       "      <td>State-gov</td>\n",
       "      <td>77516</td>\n",
       "      <td>Bachelors</td>\n",
       "      <td>13</td>\n",
       "      <td>Never-married</td>\n",
       "      <td>Adm-clerical</td>\n",
       "      <td>Not-in-family</td>\n",
       "      <td>White</td>\n",
       "      <td>Male</td>\n",
       "      <td>2174</td>\n",
       "      <td>0</td>\n",
       "      <td>40</td>\n",
       "      <td>United-States</td>\n",
       "      <td>&lt;=50K</td>\n",
       "    </tr>\n",
       "    <tr>\n",
       "      <th>1</th>\n",
       "      <td>50</td>\n",
       "      <td>Self-emp-not-inc</td>\n",
       "      <td>83311</td>\n",
       "      <td>Bachelors</td>\n",
       "      <td>13</td>\n",
       "      <td>Married-civ-spouse</td>\n",
       "      <td>Exec-managerial</td>\n",
       "      <td>Husband</td>\n",
       "      <td>White</td>\n",
       "      <td>Male</td>\n",
       "      <td>0</td>\n",
       "      <td>0</td>\n",
       "      <td>13</td>\n",
       "      <td>United-States</td>\n",
       "      <td>&lt;=50K</td>\n",
       "    </tr>\n",
       "    <tr>\n",
       "      <th>2</th>\n",
       "      <td>38</td>\n",
       "      <td>Private</td>\n",
       "      <td>215646</td>\n",
       "      <td>HS-grad</td>\n",
       "      <td>9</td>\n",
       "      <td>Divorced</td>\n",
       "      <td>Handlers-cleaners</td>\n",
       "      <td>Not-in-family</td>\n",
       "      <td>White</td>\n",
       "      <td>Male</td>\n",
       "      <td>0</td>\n",
       "      <td>0</td>\n",
       "      <td>40</td>\n",
       "      <td>United-States</td>\n",
       "      <td>&lt;=50K</td>\n",
       "    </tr>\n",
       "    <tr>\n",
       "      <th>3</th>\n",
       "      <td>53</td>\n",
       "      <td>Private</td>\n",
       "      <td>234721</td>\n",
       "      <td>11th</td>\n",
       "      <td>7</td>\n",
       "      <td>Married-civ-spouse</td>\n",
       "      <td>Handlers-cleaners</td>\n",
       "      <td>Husband</td>\n",
       "      <td>Black</td>\n",
       "      <td>Male</td>\n",
       "      <td>0</td>\n",
       "      <td>0</td>\n",
       "      <td>40</td>\n",
       "      <td>United-States</td>\n",
       "      <td>&lt;=50K</td>\n",
       "    </tr>\n",
       "    <tr>\n",
       "      <th>4</th>\n",
       "      <td>28</td>\n",
       "      <td>Private</td>\n",
       "      <td>338409</td>\n",
       "      <td>Bachelors</td>\n",
       "      <td>13</td>\n",
       "      <td>Married-civ-spouse</td>\n",
       "      <td>Prof-specialty</td>\n",
       "      <td>Wife</td>\n",
       "      <td>Black</td>\n",
       "      <td>Female</td>\n",
       "      <td>0</td>\n",
       "      <td>0</td>\n",
       "      <td>40</td>\n",
       "      <td>Cuba</td>\n",
       "      <td>&lt;=50K</td>\n",
       "    </tr>\n",
       "  </tbody>\n",
       "</table>\n",
       "</div>"
      ],
      "text/plain": [
       "   age          workclass  fnlwgt   education  education-num  \\\n",
       "0   39          State-gov   77516   Bachelors             13   \n",
       "1   50   Self-emp-not-inc   83311   Bachelors             13   \n",
       "2   38            Private  215646     HS-grad              9   \n",
       "3   53            Private  234721        11th              7   \n",
       "4   28            Private  338409   Bachelors             13   \n",
       "\n",
       "        marital-status          occupation    relationship    race      sex  \\\n",
       "0        Never-married        Adm-clerical   Not-in-family   White     Male   \n",
       "1   Married-civ-spouse     Exec-managerial         Husband   White     Male   \n",
       "2             Divorced   Handlers-cleaners   Not-in-family   White     Male   \n",
       "3   Married-civ-spouse   Handlers-cleaners         Husband   Black     Male   \n",
       "4   Married-civ-spouse      Prof-specialty            Wife   Black   Female   \n",
       "\n",
       "   capital-gain  capital-loss  hours-per-week  native-country  income  \n",
       "0          2174             0              40   United-States   <=50K  \n",
       "1             0             0              13   United-States   <=50K  \n",
       "2             0             0              40   United-States   <=50K  \n",
       "3             0             0              40   United-States   <=50K  \n",
       "4             0             0              40            Cuba   <=50K  "
      ]
     },
     "execution_count": 2,
     "metadata": {},
     "output_type": "execute_result"
    }
   ],
   "source": [
    "columns_names = (\n",
    "    'age',\n",
    "    'workclass', #Private, Self-emp-not-inc, Self-emp-inc, Federal-gov, Local-gov, State-gov, Without-pay, Never-worked.\n",
    "    'fnlwgt', # \"weight\" of that person in the dataset (i.e. how many people does that person represent) -> https://www.kansascityfed.org/research/datamuseum/cps/coreinfo/keyconcepts/weights\n",
    "    'education',\n",
    "    'education-num',\n",
    "    'marital-status',\n",
    "    'occupation',\n",
    "    'relationship',\n",
    "    'race',\n",
    "    'sex',\n",
    "    'capital-gain',\n",
    "    'capital-loss',\n",
    "    'hours-per-week',\n",
    "    'native-country',\n",
    "    'income',\n",
    ")\n",
    "\n",
    "df = pd.read_csv(\"../Data/adult.data\", names=columns_names)\n",
    "df.head()"
   ]
  },
  {
   "cell_type": "markdown",
   "metadata": {},
   "source": [
    "## 3.1 AIF360 \n",
    "\n",
    "\n",
    "AIF360 is a Python library developed by IBM that aims to help ML practicioners to include Algorithmic Fairness considerations on their developments.\n",
    "\n",
    "It's one of the most used libraries in the topic of Algorithmic Fairness and little by little is becoming an standard.\n",
    "\n",
    "Documentation is available [here](https://aif360.readthedocs.io/en/latest/)\n",
    "\n",
    "Video tutorial is available [here](https://www.youtube.com/watch?v=X1NsrcaRQTE)\n",
    "\n",
    "\n",
    "AIF360 offers tools for **fairness metrics** and **bias mitigation algorithms**"
   ]
  },
  {
   "cell_type": "markdown",
   "metadata": {},
   "source": [
    "## 3.2 Using AIF360"
   ]
  },
  {
   "cell_type": "markdown",
   "metadata": {},
   "source": [
    "### 1. Installation"
   ]
  },
  {
   "cell_type": "code",
   "execution_count": 3,
   "metadata": {},
   "outputs": [],
   "source": [
    "## Uncomment this line to install the last version of the library\n",
    "#!pip install -U aif360"
   ]
  },
  {
   "cell_type": "code",
   "execution_count": 1,
   "metadata": {},
   "outputs": [
    {
     "name": "stdout",
     "output_type": "stream",
     "text": [
      "/Library/Frameworks/Python.framework/Versions/3.6/bin\n"
     ]
    }
   ],
   "source": []
  },
  {
   "cell_type": "markdown",
   "metadata": {},
   "source": [
    "In AIF360, there is the class Dataset that can be used for similar purposes. AIF360 already has some pre-loaded datasets. \n",
    "\n",
    "In the following example, we will use again the Adult Census dataset."
   ]
  },
  {
   "cell_type": "markdown",
   "metadata": {},
   "source": [
    "### 2. Loading Common Datasets: pre loaded in the tool\n",
    "\n",
    "\n",
    "Last versions of the libary do not install the preloaded datasets directly but require a manual installation of them. \n",
    "\n",
    "You can see [here](https://aif360.readthedocs.io/en/latest/modules/datasets.html#common-datasets) what are the **Common Datasets** that you can directly download.\n",
    "\n",
    "You can use the following script to automatize the downloading of the three main datasets:\n"
   ]
  },
  {
   "cell_type": "code",
   "execution_count": 4,
   "metadata": {},
   "outputs": [],
   "source": [
    "## Uncomment this to automatize the downloading of AIF pre-loaded datasets\n",
    "\n",
    "## First: Check the PythonPath if its according to your python version and the actual path to be installed. \n",
    "#import os\n",
    "#import sys\n",
    "#print(os.path.dirname(sys.executable))\n",
    "\n",
    "## Second: Edit the sh with the correct path and execute the following line:\n",
    "#!sh download_aif360_datasets.sh"
   ]
  },
  {
   "cell_type": "code",
   "execution_count": null,
   "metadata": {},
   "outputs": [],
   "source": []
  },
  {
   "cell_type": "markdown",
   "metadata": {},
   "source": [
    "### 3. Data loading: Adult Census Income dataset\n",
    "\n",
    "Info about the AdultDataset in AIF360 is available [here](https://aif360.readthedocs.io/en/latest/modules/generated/aif360.datasets.AdultDataset.html#aif360.datasets.AdultDataset).\n",
    "\n",
    "The following code specifies the privileged and unprivileges groups.\n",
    "\n",
    "\n",
    "As most of the available algorithmic fairness tools, AIF360 needs you to first specify the population groupings to be used for the fairness assessment."
   ]
  },
  {
   "cell_type": "code",
   "execution_count": 5,
   "metadata": {},
   "outputs": [],
   "source": [
    "## Import dataset\n",
    "\n",
    "privileged_groups = [{'sex': 1}]\n",
    "unprivileged_groups = [{'sex': 0}]\n",
    "dataset_orig = load_preproc_data_adult(['sex'])\n",
    "   \n",
    "\n",
    "#random seed for calibrated equal odds prediction\n",
    "np.random.seed(1)\n"
   ]
  },
  {
   "cell_type": "code",
   "execution_count": 6,
   "metadata": {},
   "outputs": [
    {
     "data": {
      "text/plain": [
       "               instance weights features                                      \\\n",
       "                                         protected attribute                   \n",
       "                                    race                 sex Age (decade)=10   \n",
       "instance names                                                                 \n",
       "0                           1.0      0.0                 1.0             0.0   \n",
       "1                           1.0      1.0                 1.0             0.0   \n",
       "2                           1.0      1.0                 1.0             0.0   \n",
       "3                           1.0      0.0                 1.0             0.0   \n",
       "4                           1.0      1.0                 0.0             1.0   \n",
       "...                         ...      ...                 ...             ...   \n",
       "48837                       1.0      1.0                 0.0             0.0   \n",
       "48838                       1.0      1.0                 1.0             0.0   \n",
       "48839                       1.0      1.0                 0.0             0.0   \n",
       "48840                       1.0      1.0                 1.0             0.0   \n",
       "48841                       1.0      1.0                 0.0             0.0   \n",
       "\n",
       "                                                                \\\n",
       "                                                                 \n",
       "               Age (decade)=20 Age (decade)=30 Age (decade)=40   \n",
       "instance names                                                   \n",
       "0                          1.0             0.0             0.0   \n",
       "1                          0.0             1.0             0.0   \n",
       "2                          1.0             0.0             0.0   \n",
       "3                          0.0             0.0             1.0   \n",
       "4                          0.0             0.0             0.0   \n",
       "...                        ...             ...             ...   \n",
       "48837                      1.0             0.0             0.0   \n",
       "48838                      0.0             0.0             1.0   \n",
       "48839                      0.0             0.0             0.0   \n",
       "48840                      1.0             0.0             0.0   \n",
       "48841                      0.0             0.0             0.0   \n",
       "\n",
       "                                                                  \\\n",
       "                                                                   \n",
       "               Age (decade)=50 Age (decade)=60 Age (decade)=>=70   \n",
       "instance names                                                     \n",
       "0                          0.0             0.0               0.0   \n",
       "1                          0.0             0.0               0.0   \n",
       "2                          0.0             0.0               0.0   \n",
       "3                          0.0             0.0               0.0   \n",
       "4                          0.0             0.0               0.0   \n",
       "...                        ...             ...               ...   \n",
       "48837                      0.0             0.0               0.0   \n",
       "48838                      0.0             0.0               0.0   \n",
       "48839                      1.0             0.0               0.0   \n",
       "48840                      0.0             0.0               0.0   \n",
       "48841                      1.0             0.0               0.0   \n",
       "\n",
       "                                                                      \\\n",
       "                                                                       \n",
       "               Education Years=6 Education Years=7 Education Years=8   \n",
       "instance names                                                         \n",
       "0                            0.0               1.0               0.0   \n",
       "1                            0.0               0.0               0.0   \n",
       "2                            0.0               0.0               0.0   \n",
       "3                            0.0               0.0               0.0   \n",
       "4                            0.0               0.0               0.0   \n",
       "...                          ...               ...               ...   \n",
       "48837                        0.0               0.0               0.0   \n",
       "48838                        0.0               0.0               0.0   \n",
       "48839                        0.0               0.0               0.0   \n",
       "48840                        0.0               0.0               0.0   \n",
       "48841                        0.0               0.0               0.0   \n",
       "\n",
       "                                                                        \\\n",
       "                                                                         \n",
       "               Education Years=9 Education Years=10 Education Years=11   \n",
       "instance names                                                           \n",
       "0                            0.0                0.0                0.0   \n",
       "1                            1.0                0.0                0.0   \n",
       "2                            0.0                0.0                0.0   \n",
       "3                            0.0                1.0                0.0   \n",
       "4                            0.0                1.0                0.0   \n",
       "...                          ...                ...                ...   \n",
       "48837                        0.0                0.0                0.0   \n",
       "48838                        1.0                0.0                0.0   \n",
       "48839                        1.0                0.0                0.0   \n",
       "48840                        1.0                0.0                0.0   \n",
       "48841                        1.0                0.0                0.0   \n",
       "\n",
       "                                                                          \\\n",
       "                                                                           \n",
       "               Education Years=12 Education Years=<6 Education Years=>12   \n",
       "instance names                                                             \n",
       "0                             0.0                0.0                 0.0   \n",
       "1                             0.0                0.0                 0.0   \n",
       "2                             1.0                0.0                 0.0   \n",
       "3                             0.0                0.0                 0.0   \n",
       "4                             0.0                0.0                 0.0   \n",
       "...                           ...                ...                 ...   \n",
       "48837                         1.0                0.0                 0.0   \n",
       "48838                         0.0                0.0                 0.0   \n",
       "48839                         0.0                0.0                 0.0   \n",
       "48840                         0.0                0.0                 0.0   \n",
       "48841                         0.0                0.0                 0.0   \n",
       "\n",
       "               labels  \n",
       "                       \n",
       "                       \n",
       "instance names         \n",
       "0                 0.0  \n",
       "1                 0.0  \n",
       "2                 1.0  \n",
       "3                 1.0  \n",
       "4                 0.0  \n",
       "...               ...  \n",
       "48837             0.0  \n",
       "48838             1.0  \n",
       "48839             0.0  \n",
       "48840             0.0  \n",
       "48841             1.0  \n",
       "\n",
       "[48842 rows x 20 columns]"
      ]
     },
     "execution_count": 6,
     "metadata": {},
     "output_type": "execute_result"
    }
   ],
   "source": [
    "## Printing the content\n",
    "dataset_orig"
   ]
  },
  {
   "cell_type": "markdown",
   "metadata": {},
   "source": [
    "### 4. Printing characteristics of the original dataset"
   ]
  },
  {
   "cell_type": "code",
   "execution_count": 7,
   "metadata": {},
   "outputs": [
    {
     "data": {
      "text/markdown": [
       "#### Dataset shape"
      ],
      "text/plain": [
       "<IPython.core.display.Markdown object>"
      ]
     },
     "metadata": {},
     "output_type": "display_data"
    },
    {
     "name": "stdout",
     "output_type": "stream",
     "text": [
      "(48842, 18)\n"
     ]
    },
    {
     "data": {
      "text/markdown": [
       "#### Dataset label name"
      ],
      "text/plain": [
       "<IPython.core.display.Markdown object>"
      ]
     },
     "metadata": {},
     "output_type": "display_data"
    },
    {
     "name": "stdout",
     "output_type": "stream",
     "text": [
      "['Income Binary']\n"
     ]
    },
    {
     "data": {
      "text/markdown": [
       "#### Favorable and unfavorable labels"
      ],
      "text/plain": [
       "<IPython.core.display.Markdown object>"
      ]
     },
     "metadata": {},
     "output_type": "display_data"
    },
    {
     "name": "stdout",
     "output_type": "stream",
     "text": [
      "1.0 0.0\n"
     ]
    },
    {
     "data": {
      "text/markdown": [
       "#### Protected attribute names"
      ],
      "text/plain": [
       "<IPython.core.display.Markdown object>"
      ]
     },
     "metadata": {},
     "output_type": "display_data"
    },
    {
     "name": "stdout",
     "output_type": "stream",
     "text": [
      "['sex']\n"
     ]
    },
    {
     "data": {
      "text/markdown": [
       "#### Privileged and unprivileged protected attribute values"
      ],
      "text/plain": [
       "<IPython.core.display.Markdown object>"
      ]
     },
     "metadata": {},
     "output_type": "display_data"
    },
    {
     "name": "stdout",
     "output_type": "stream",
     "text": [
      "[array([1.])] [array([0.])]\n"
     ]
    },
    {
     "data": {
      "text/markdown": [
       "#### Dataset feature names"
      ],
      "text/plain": [
       "<IPython.core.display.Markdown object>"
      ]
     },
     "metadata": {},
     "output_type": "display_data"
    },
    {
     "name": "stdout",
     "output_type": "stream",
     "text": [
      "['race', 'sex', 'Age (decade)=10', 'Age (decade)=20', 'Age (decade)=30', 'Age (decade)=40', 'Age (decade)=50', 'Age (decade)=60', 'Age (decade)=>=70', 'Education Years=6', 'Education Years=7', 'Education Years=8', 'Education Years=9', 'Education Years=10', 'Education Years=11', 'Education Years=12', 'Education Years=<6', 'Education Years=>12']\n"
     ]
    }
   ],
   "source": [
    "# print out some labels, names, etc.\n",
    "display(Markdown(\"#### Dataset shape\"))\n",
    "print(dataset_orig.features.shape)\n",
    "\n",
    "display(Markdown(\"#### Dataset label name\"))\n",
    "print(dataset_orig.label_names)\n",
    "\n",
    "display(Markdown(\"#### Favorable and unfavorable labels\"))\n",
    "print(dataset_orig.favorable_label, dataset_orig.unfavorable_label)\n",
    "\n",
    "display(Markdown(\"#### Protected attribute names\"))\n",
    "print(dataset_orig.protected_attribute_names)\n",
    "\n",
    "display(Markdown(\"#### Privileged and unprivileged protected attribute values\"))\n",
    "print(dataset_orig.privileged_protected_attributes, \n",
    "      dataset_orig.unprivileged_protected_attributes)\n",
    "\n",
    "display(Markdown(\"#### Dataset feature names\"))\n",
    "print(dataset_orig.feature_names)"
   ]
  },
  {
   "cell_type": "markdown",
   "metadata": {},
   "source": [
    "### 5. Computing fairness metric on the original dataset\n",
    "\n",
    "The Dataset corresponds to a BinarLabelDataset instance.\n",
    "\n",
    "The tool contains different [metrics](https://aif360.readthedocs.io/en/latest/modules/generated/aif360.metrics.BinaryLabelDatasetMetric.html#aif360.metrics.BinaryLabelDatasetMetric) to assess if there are significant disparities across groups in the input data."
   ]
  },
  {
   "cell_type": "code",
   "execution_count": 8,
   "metadata": {},
   "outputs": [
    {
     "data": {
      "text/markdown": [
       "#### Original dataset"
      ],
      "text/plain": [
       "<IPython.core.display.Markdown object>"
      ]
     },
     "metadata": {},
     "output_type": "display_data"
    },
    {
     "name": "stdout",
     "output_type": "stream",
     "text": [
      "Difference in mean outcomes between unprivileged and privileged groups = -0.194516\n"
     ]
    }
   ],
   "source": [
    "metric_orig = BinaryLabelDatasetMetric(dataset_orig, \n",
    "                                             unprivileged_groups=unprivileged_groups,\n",
    "                                             privileged_groups=privileged_groups)\n",
    "\n",
    "display(Markdown(\"#### Original dataset\"))\n",
    "print(\"Difference in mean outcomes between unprivileged and privileged groups = %f\" % metric_orig.mean_difference())\n"
   ]
  },
  {
   "cell_type": "markdown",
   "metadata": {},
   "source": [
    "### 6. Splitting the dataset between train and test\n",
    "\n",
    "Datasets contain an split function that can be used to divide the data between train and test sets."
   ]
  },
  {
   "cell_type": "code",
   "execution_count": 9,
   "metadata": {},
   "outputs": [],
   "source": [
    "dataset_orig_train, dataset_orig_test = dataset_orig.split([0.7], shuffle=True)\n"
   ]
  },
  {
   "attachments": {},
   "cell_type": "markdown",
   "metadata": {},
   "source": [
    "### 7.Computing fairness metric on the TRAINING dataset\n",
    "\n",
    "We can again test whe mean difference in the training set.\n",
    "\n",
    "`BinaryLabelDatasetMetric.mean_difference()` calculates the statistical parity difference which can be formulated as 𝑃𝑟(𝑌=1|𝐷=unprivileged)−𝑃𝑟(𝑌=1|𝐷=privileged)"
   ]
  },
  {
   "cell_type": "code",
   "execution_count": 10,
   "metadata": {},
   "outputs": [
    {
     "data": {
      "text/markdown": [
       "#### Training dataset"
      ],
      "text/plain": [
       "<IPython.core.display.Markdown object>"
      ]
     },
     "metadata": {},
     "output_type": "display_data"
    },
    {
     "name": "stdout",
     "output_type": "stream",
     "text": [
      "Difference in mean outcomes between unprivileged and privileged groups = -0.190244\n"
     ]
    }
   ],
   "source": [
    "metric_orig_train = BinaryLabelDatasetMetric(dataset_orig_train, \n",
    "                                             unprivileged_groups=unprivileged_groups,\n",
    "                                             privileged_groups=privileged_groups)\n",
    "\n",
    "display(Markdown(\"#### Training dataset\"))\n",
    "print(\"Difference in mean outcomes between unprivileged and privileged groups = %f\" % metric_orig_train.mean_difference())"
   ]
  },
  {
   "cell_type": "markdown",
   "metadata": {},
   "source": [
    "### 6. Train a classifier using the training data\n",
    "\n",
    "Preparing data for scikit-learn."
   ]
  },
  {
   "cell_type": "code",
   "execution_count": 18,
   "metadata": {},
   "outputs": [],
   "source": [
    "from sklearn import svm\n",
    "# Logistic regression classifier and predictions\n",
    "scale_orig = StandardScaler()\n",
    "X_train = scale_orig.fit_transform(dataset_orig_train.features)\n",
    "y_train = dataset_orig_train.labels.ravel()\n"
   ]
  },
  {
   "cell_type": "markdown",
   "metadata": {},
   "source": [
    "### Exercise 1 (1 point):\n",
    "\n",
    "<br>\n",
    "<div class=\"alert alert-block alert-success col-md-12\">\n",
    "\n",
    "<p>Use the data above to train three different scikit-learn classifiers of your election and store them in an array</p>\n",
    "\n",
    "</div>\n"
   ]
  },
  {
   "cell_type": "code",
   "execution_count": 27,
   "metadata": {},
   "outputs": [],
   "source": [
    "## Your code here\n",
    "#clfs = []"
   ]
  },
  {
   "cell_type": "markdown",
   "metadata": {},
   "source": [
    "### 7. Predicting classification for the test set\n",
    "\n",
    "Obtaining predictions\n",
    "\n",
    "### Exercise 2 (1 point):\n",
    "\n",
    "<br>\n",
    "<div class=\"alert alert-block alert-success col-md-12\">\n",
    "\n",
    "<p>Get the predictions for our X_test for each of the classifiers. Store the resulting result on an array </p>\n",
    "\n",
    "</div>\n"
   ]
  },
  {
   "cell_type": "code",
   "execution_count": 16,
   "metadata": {},
   "outputs": [],
   "source": [
    "## Your code_here\n",
    "#clfs_preds = []"
   ]
  },
  {
   "cell_type": "markdown",
   "metadata": {},
   "source": [
    "### 8. Assessing classification fairness for the predictions\n",
    "\n",
    "In this cell, we will assess different [classification fairness metrics](https://aif360.readthedocs.io/en/latest/modules/generated/aif360.metrics.ClassificationMetric.html#aif360.metrics.ClassificationMetric)\n",
    "\n",
    "In this analysis, we will use:\n",
    "- **Balanced accuracy.** \n",
    "Accuracy balanced across privileged and unprivileged individuals.\n",
    "$$0.5 * ACC_{D=unprivileged} + 0.5*ACC_{D=privileged} $$\n",
    "\n",
    "\n",
    "- **Average odds difference.** \n",
    "Average of difference in FPR and TPR for unprivileged and privileged groups:\n",
    "$$\\frac{1}{2}[(FPR_{D=unprivileged} - FPR_{D=privileged}) + (TPR_{D=unprivileged}-TPR_{D=unprivileged})]$$\n",
    "\n",
    "- **Disparate impact.** \n",
    "Ratio of probabilities of favorable label predicted for each group:\n",
    "$$\\frac{P(\\hat Y = 1 | D=unprivileged)}{P(\\hat Y = 1 | D=privileged)}$$\n",
    "\n",
    "- **Error rate ratio.** Ratio of error rate for across groups:\n",
    "$$\\frac{ERR_{D=unprivileged}}{ERR_{D=privileged}}$$"
   ]
  },
  {
   "cell_type": "markdown",
   "metadata": {},
   "source": [
    "### Exercise 3 (1 point):\n",
    "\n",
    "<br>\n",
    "<div class=\"alert alert-block alert-success col-md-12\">\n",
    "\n",
    "<p>Using the prediction results seen above, obtain the values for each of the fairness metrics mentioned above and store them in an array</p>\n",
    "\n",
    "</div>"
   ]
  },
  {
   "cell_type": "code",
   "execution_count": 24,
   "metadata": {},
   "outputs": [],
   "source": [
    "## Your code here\n",
    "#clfs_preds_fairness = []"
   ]
  },
  {
   "cell_type": "code",
   "execution_count": null,
   "metadata": {},
   "outputs": [],
   "source": []
  },
  {
   "cell_type": "markdown",
   "metadata": {},
   "source": [
    "### 9. Plotting and interpretation of the obtained results\n",
    "\n",
    "### Exercise 4 (1 point):\n",
    "\n",
    "<br>\n",
    "<div class=\"alert alert-block alert-success col-md-12\">\n",
    "\n",
    "<p>Plot the obtained values for the classification metrics for each of the trained classifiers</p>\n",
    "\n",
    "</div>"
   ]
  },
  {
   "cell_type": "code",
   "execution_count": 26,
   "metadata": {},
   "outputs": [],
   "source": [
    "## Your code here"
   ]
  },
  {
   "cell_type": "markdown",
   "metadata": {},
   "source": [
    "### Exercise 5 (1 point):\n",
    "\n",
    "<br>\n",
    "<div class=\"alert alert-block alert-success col-md-12\">\n",
    "\n",
    "<p>Provide an interpretation of the observed results (max 5 lines)</p>\n",
    "\n",
    "</div>\n",
    "\n",
    "<div class=\"alert alert-block alert-info col-md-12\">\n",
    "\n",
    "<p>Focusing in the two metrics for which you observe bigger and smaller differences is enough.</p>\n",
    "\n",
    "</div>"
   ]
  },
  {
   "cell_type": "markdown",
   "metadata": {},
   "source": [
    "**Your answer here**:"
   ]
  },
  {
   "cell_type": "markdown",
   "metadata": {},
   "source": [
    "# Session 06\n",
    "\n",
    "In this session, you will use AIF360 yourselves.\n",
    "\n",
    "### 10. Unfairness mitigation algorithms  in AIF360\n",
    "The library contains a set of algorithms to mitigate potential unfairness in machine-learning pipelines.\n",
    "\n",
    "The provided algorithms correspond implementation of to state of the art techniques (most of them contain a link to a scientific paper that introduced them).\n",
    "\n",
    "The existing algorithms can be found [here](https://aif360.readthedocs.io/en/latest/modules/algorithms.html).\n",
    "\n",
    "They are divided between:\n",
    "- **Preprocessing.** Algorithms that are applied before starting the learning process (modification of the input data before feeding it to the model).\n",
    "\n",
    "- **Inprocessing.** Algorithms that are applied during the learning process (e.g.: modification of the loss function to account for fairness).\n",
    "\n",
    "- **Postprocessing.** Algorithms that are applied after the predictions of the models, substituting them for more fair solutions.\n",
    "\n",
    "\n",
    "### Exercise 6 (1 point):\n",
    "\n",
    "<br>\n",
    "<div class=\"alert alert-block alert-success col-md-12\">\n",
    "\n",
    "<p>Load one of the preloaded datasets in AIF360 different of the adult dataset and plot the characteristics of it</p>\n",
    "\n",
    "</div>\n",
    "\n",
    "<div class=\"alert alert-block alert-info col-md-12\">\n",
    "\n",
    "<p>The existing datasets can be loaded with different sensitive attributes</p>\n",
    "<p>You can add necessary imports for loading the dataset</p>\n",
    "\n",
    "</div>"
   ]
  },
  {
   "cell_type": "code",
   "execution_count": 29,
   "metadata": {},
   "outputs": [],
   "source": [
    "## Your code here\n",
    "## aif_dataset = "
   ]
  },
  {
   "cell_type": "markdown",
   "metadata": {},
   "source": [
    "### Exercise 7 (0.5 point):\n",
    "<br>\n",
    "<div class=\"alert alert-block alert-success col-md-12\">\n",
    "\n",
    "<p>Divide your data between train and test</p>\n",
    "\n",
    "</div>"
   ]
  },
  {
   "cell_type": "code",
   "execution_count": 28,
   "metadata": {},
   "outputs": [],
   "source": [
    "## Your code here"
   ]
  },
  {
   "cell_type": "markdown",
   "metadata": {},
   "source": [
    "### Exercise 8 (0.5 point):\n",
    "<br>\n",
    "<div class=\"alert alert-block alert-success col-md-12\">\n",
    "\n",
    "<p>Train a scikit-learn model of your election with the data above</p>\n",
    "\n",
    "</div>"
   ]
  },
  {
   "cell_type": "code",
   "execution_count": 30,
   "metadata": {},
   "outputs": [],
   "source": [
    "## Your code here\n",
    "#clf_orig = "
   ]
  },
  {
   "cell_type": "markdown",
   "metadata": {},
   "source": [
    "### Exercise 9 (0.5 point):\n",
    "<br>\n",
    "<div class=\"alert alert-block alert-success col-md-12\">\n",
    "\n",
    "<p>Assess the performance from the fairness point of view of the created model</p>\n",
    "\n",
    "</div>\n",
    "\n",
    "<div class=\"alert alert-block alert-info col-md-12\">\n",
    "\n",
    "<p>For that, you should plot the result of some fairness metric for classification.</p>\n",
    "<p> You can just use the same metrics we used above, but remember to add other metrics if you need them to detect changes of performance in the following exercises</p>\n",
    "\n",
    "</div>"
   ]
  },
  {
   "cell_type": "code",
   "execution_count": null,
   "metadata": {},
   "outputs": [],
   "source": [
    "## Your code here"
   ]
  },
  {
   "cell_type": "markdown",
   "metadata": {},
   "source": [
    "### Exercise 10 (2.5 points)\n",
    "\n",
    "<div class=\"alert alert-block alert-success col-md-12\">\n",
    "<ul>\n",
    "\n",
    "<li><p>Apply an unfairness mitigation algorithm of your election, train a new classifier of the same family used above and assess \n",
    "the new performance from the fairness point of view</p></li>\n",
    "\n",
    "<li><p>Provide a textial description of the results (max 3 lines)</p></li>\n",
    "\n",
    "</ul>\n",
    "\n",
    "</div>\n",
    "\n",
    "<div class=\"alert alert-block alert-info col-md-12\">\n",
    "\n",
    "<p>Although you can try other algorihtms if you want, the suggested algorithms to mitigate unfairness are the following:</p>\n",
    "\n",
    "    \n",
    "<ul>\n",
    "<li><b>Preprocessing</b>\n",
    "<ul>\n",
    "<li>Disparate Impact Remover</li>\n",
    "<li>Rewighing (you need a classifier that allows you to parametrize sample weights for this)</li>\n",
    "</ul>\n",
    "\n",
    "</li>\n",
    "<li><b>Inprocessing</b>\n",
    "<ul>\n",
    "<li>MetaFairClassifier</li>\n",
    "</ul>\n",
    "</li>\n",
    "<li><b>Postprocessing</b>\n",
    "<ul>\n",
    "<li>Disparate Impact Remover</li>\n",
    "<li>EqOddsPostprocessing (You need to use the equalized odds ratio to measure performance of this classifier and the classifier trained above)</li>\n",
    "</ul>\n",
    "</li>\n",
    "</ul>\n",
    "\n",
    "<p>You can add necessary imports for using the algorithm</p>\n",
    "\n",
    "</div>\n",
    "\n",
    "\n",
    "<div class=\"alert alert-block alert-warning col-md-12\">\n",
    "    <p>Sometimes, certain algorithms do not work well with certain classifiers / output distributions</p>\n",
    "    <p>This can happen for several reasons, one of them being the changes done for subsequent versions of the tool</p>\n",
    "    <br>\n",
    "    <p><b>If you see that your unfairness mitigation algorithm does not work as expected, do not invest too much time trying to solve it, use another algorithm.</b></p>\n",
    "</div>   "
   ]
  },
  {
   "cell_type": "code",
   "execution_count": null,
   "metadata": {},
   "outputs": [],
   "source": [
    "## Your code here"
   ]
  },
  {
   "cell_type": "markdown",
   "metadata": {},
   "source": [
    "**Your explaination here**"
   ]
  }
 ],
 "metadata": {
  "kernelspec": {
   "display_name": "Python 3",
   "language": "python",
   "name": "python3"
  },
  "language_info": {
   "codemirror_mode": {
    "name": "ipython",
    "version": 3
   },
   "file_extension": ".py",
   "mimetype": "text/x-python",
   "name": "python",
   "nbconvert_exporter": "python",
   "pygments_lexer": "ipython3",
   "version": "3.6.8"
  }
 },
 "nbformat": 4,
 "nbformat_minor": 2
}
