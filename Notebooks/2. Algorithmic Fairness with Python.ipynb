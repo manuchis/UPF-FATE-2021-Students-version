{
 "cells": [
  {
   "cell_type": "markdown",
   "metadata": {},
   "source": [
    "# Fairness, Accountability, Transparency and Ethics Course (FATE)\n",
    "\n",
    "\n",
    "## Universitat Pompeu Fabra (UPF)\n",
    "### 21/22\n",
    "\n",
    "\n",
    "**Submission date: 09/03/2021 at 12PM on Aula Global.**\n",
    "\n",
    "Please, implement this notebook **individually**.\n",
    "\n",
    "*Originally created by David Solans (david.solans@upf.edu)\n"
   ]
  },
  {
   "cell_type": "markdown",
   "metadata": {},
   "source": [
    "**Legend** <br>\n",
    "In this notebook we use:    \n",
    "<div class=\"alert alert-block col-md-7 alert-info\">To recall information from the theory classes and other tips</div>\n",
    "<div class=\"alert alert-block col-md-7 alert-warning\">To point important things that should not be \n",
    "   forgotten</div> \n",
    "<div class=\"alert alert-block col-md-7 alert-success\">To indicate tasks to be done by students</div>"
   ]
  },
  {
   "cell_type": "markdown",
   "metadata": {},
   "source": [
    "# Session 03\n",
    "\n",
    "# 2. Algorithmic Fairness with Python\n",
    "\n",
    "In this second notebook, we will study the concept of Algorithmic Fairness.\n",
    "\n",
    "\n",
    "The purpose of this notebook is to give you a set of examples to show what type of Fairness assessments can be done with the knowledge you already have.\n",
    "\n",
    "<div class=\"col-md-10 col-md-offset-1 text-center\">\n",
    "    <img src=\"https://miro.medium.com/max/700/0*THacHbKnCewphbnu.jpg\"></img>\n",
    "    <p class=\"col-md-10 col-md-offset-1 \">Illustration of disparate impact — in this diagram the data distribution of two groups is very different, which leads to differences in the output of the algorithm without any explicit association of the groups. Source: <a href=\"https://www.kdnuggets.com/2018/05/machine-learning-breaking-bad-bias-fairness.html\">KdNuggets</a>\n",
    "</p>\n",
    "</div>"
   ]
  },
  {
   "cell_type": "markdown",
   "metadata": {},
   "source": [
    "###  Libraries used in this notebook\n",
    "You will need to install: **numpy**, **pandas**, **matplotlib**, and **sklearn**."
   ]
  },
  {
   "cell_type": "code",
   "execution_count": 24,
   "metadata": {},
   "outputs": [],
   "source": [
    "## Required statements\n",
    "import pandas as pd\n",
    "import numpy as np\n",
    "\n",
    "# Sklearn\n",
    "from sklearn import linear_model\n",
    "from sklearn.metrics import mean_squared_error, mean_absolute_error, accuracy_score, confusion_matrix, precision_score, recall_score, roc_auc_score, roc_curve, auc\n",
    "from sklearn.preprocessing import LabelEncoder\n",
    "from sklearn.feature_selection import SelectKBest, chi2\n",
    "from sklearn.linear_model import LogisticRegression\n",
    "from sklearn.ensemble import RandomForestClassifier\n",
    "from sklearn.model_selection import train_test_split\n",
    "\n",
    "# Plotting requirements\n",
    "import matplotlib.pyplot as plt\n",
    "%matplotlib inline\n",
    "import seaborn as sns"
   ]
  },
  {
   "cell_type": "markdown",
   "metadata": {},
   "source": [
    "## 2.1 Algorithmic Fairness motivation. \n",
    "\n",
    "Example from: Zliobaite, I and Custers, B: Using sensitive data may be necessary for avoiding discrimination in data-driven decision models (2016)\n",
    "\n",
    "### 2.1.1 Color-awareness is enough? Can unfairness be avoided by just not considering sensitive data?"
   ]
  },
  {
   "cell_type": "markdown",
   "metadata": {},
   "source": [
    "#### Toy example: why sensitive data is necessary?\n",
    "Suposse that the underlying mechanism how salaries are decided is: \n",
    "$$ salary = 1000 + 100 * education - 500 * ethnicity$$\n",
    "\n",
    "Where education is number of years after graduation and ethnicity is 1 for inmigrants and 0 for natives.\n",
    "\n",
    "This means that we implicitly have two sub-population groups, as given by the ethnicity attribute that has values in the set [0,1]. "
   ]
  },
  {
   "cell_type": "code",
   "execution_count": 8,
   "metadata": {},
   "outputs": [],
   "source": [
    "## We define years of experience and ethnicity for 10 individuals\n",
    "toy_data_base = [\n",
    "                 [1,1],\n",
    "                 [1,0],\n",
    "                 [2,1],\n",
    "                 [6,0],\n",
    "                 [3,1],\n",
    "                 [7,0],\n",
    "                 [4,1],\n",
    "                 [9,0],\n",
    "                 [10,1],\n",
    "                 [10,0]\n",
    "                 \n",
    "                ]"
   ]
  },
  {
   "cell_type": "code",
   "execution_count": 9,
   "metadata": {},
   "outputs": [],
   "source": [
    "## Function used to generate data\n",
    "def toy_salary_generator(num_years, is_inmigrant):\n",
    "    return 1000 + 100 * num_years - 500*int(is_inmigrant)"
   ]
  },
  {
   "cell_type": "code",
   "execution_count": 10,
   "metadata": {},
   "outputs": [],
   "source": [
    "## Calculating the salary for each individual inside toy_data_base\n",
    "toy_data = [[v[0], v[1], toy_salary_generator(v[0], v[1])] for v in toy_data_base]"
   ]
  },
  {
   "cell_type": "code",
   "execution_count": 11,
   "metadata": {},
   "outputs": [
    {
     "data": {
      "text/html": [
       "<div>\n",
       "<style scoped>\n",
       "    .dataframe tbody tr th:only-of-type {\n",
       "        vertical-align: middle;\n",
       "    }\n",
       "\n",
       "    .dataframe tbody tr th {\n",
       "        vertical-align: top;\n",
       "    }\n",
       "\n",
       "    .dataframe thead th {\n",
       "        text-align: right;\n",
       "    }\n",
       "</style>\n",
       "<table border=\"1\" class=\"dataframe\">\n",
       "  <thead>\n",
       "    <tr style=\"text-align: right;\">\n",
       "      <th></th>\n",
       "      <th>education</th>\n",
       "      <th>ethnicity</th>\n",
       "      <th>salary</th>\n",
       "    </tr>\n",
       "  </thead>\n",
       "  <tbody>\n",
       "    <tr>\n",
       "      <th>0</th>\n",
       "      <td>1</td>\n",
       "      <td>1</td>\n",
       "      <td>600</td>\n",
       "    </tr>\n",
       "    <tr>\n",
       "      <th>1</th>\n",
       "      <td>1</td>\n",
       "      <td>0</td>\n",
       "      <td>1100</td>\n",
       "    </tr>\n",
       "    <tr>\n",
       "      <th>2</th>\n",
       "      <td>2</td>\n",
       "      <td>1</td>\n",
       "      <td>700</td>\n",
       "    </tr>\n",
       "    <tr>\n",
       "      <th>3</th>\n",
       "      <td>6</td>\n",
       "      <td>0</td>\n",
       "      <td>1600</td>\n",
       "    </tr>\n",
       "    <tr>\n",
       "      <th>4</th>\n",
       "      <td>3</td>\n",
       "      <td>1</td>\n",
       "      <td>800</td>\n",
       "    </tr>\n",
       "  </tbody>\n",
       "</table>\n",
       "</div>"
      ],
      "text/plain": [
       "   education  ethnicity  salary\n",
       "0          1          1     600\n",
       "1          1          0    1100\n",
       "2          2          1     700\n",
       "3          6          0    1600\n",
       "4          3          1     800"
      ]
     },
     "execution_count": 11,
     "metadata": {},
     "output_type": "execute_result"
    }
   ],
   "source": [
    "## Formatting data in a pandas dataframe\n",
    "df = pd.DataFrame(columns=[\"education\", \"ethnicity\", \"salary\"], data=toy_data)\n",
    "df.head()"
   ]
  },
  {
   "cell_type": "code",
   "execution_count": 12,
   "metadata": {},
   "outputs": [
    {
     "data": {
      "image/png": "[encoded data removed]",
      "text/plain": [
       "<Figure size 576x360 with 1 Axes>"
      ]
     },
     "metadata": {
      "needs_background": "light"
     },
     "output_type": "display_data"
    }
   ],
   "source": [
    "## Visualization of the results\n",
    "f = plt.figure(figsize=[8,5])\n",
    "\n",
    "df1 = df[df['ethnicity'] == 1]\n",
    "df2 = df[df['ethnicity'] != 1]\n",
    "\n",
    "X1 = df1['education'].values.reshape(-1, 1)\n",
    "Y1 = df1['salary'].values\n",
    "\n",
    "X2 = df2['education'].values.reshape(-1, 1)\n",
    "Y2 = df2['salary'].values\n",
    "\n",
    "plt.scatter(X2, Y2, label=\"Ethnicty = 0\")\n",
    "plt.scatter(X1, Y1, label=\"Ethnicty = 1\")\n",
    "\n",
    "\n",
    "plt.xlabel(\"Years of experience\", fontsize=15)\n",
    "plt.ylabel(\"Salary\", fontsize=15)\n",
    "\n",
    "plt.legend()\n",
    "plt.show()"
   ]
  },
  {
   "cell_type": "markdown",
   "metadata": {},
   "source": [
    "\n",
    "<br>\n",
    "<div class=\"alert alert-block alert-info col-md-12\">\n",
    "<b>Oberservations: <b>\n",
    "    <br>\n",
    "    <ul>\n",
    "        <li>Data is well balanced (half of the samples have *ethnicity* = 1).</li>\n",
    "        <li>Most of highest salaries are given to *ethnicity* = 0.</li>\n",
    "        <li>In the following, we will refer to ethnicity = 0 as the privileged group and ethnicity = 1 as disadvantaged or protected group.</li>\n",
    "    </ul>\n",
    "<br>\n"
   ]
  },
  {
   "cell_type": "markdown",
   "metadata": {},
   "source": [
    "### 2.1.2 How can we build here a model that predicts salary?\n",
    "\n",
    "This is a regression problem. \n",
    "\n",
    "We will use a simple Linear Regression to illustrate and reason about the implications of using all the information available, use color-awareness (not using the race as input attribute) or other options\n",
    "\n",
    "#### 2.1.2.1 Option 1: Remove sensitive attribute (Ethnicity)"
   ]
  },
  {
   "cell_type": "code",
   "execution_count": 25,
   "metadata": {},
   "outputs": [
    {
     "name": "stdout",
     "output_type": "stream",
     "text": [
      "Mean squared error: 53402.24\n",
      "   - MAE protected group: 213.61\n",
      "   - MAE privileged group: 213.61 \n",
      "\n",
      "   - MAE lower salary group: 211.37\n",
      "   - MAE higher salary group: 215.85 \n",
      "\n",
      "pred_salary = 601.636520 + 127.993109 * education\n"
     ]
    },
    {
     "data": {
      "image/png": "[encoded data removed]",
      "text/plain": [
       "<Figure size 576x360 with 1 Axes>"
      ]
     },
     "metadata": {
      "needs_background": "light"
     },
     "output_type": "display_data"
    }
   ],
   "source": [
    "## Training a linear regression model solely based on education to predict the salary\n",
    "\n",
    "X = df['education'].values.reshape(-1, 1)\n",
    "Y = df['salary'].values\n",
    "\n",
    "# Create linear regression object\n",
    "regr = linear_model.LinearRegression()\n",
    "\n",
    "# Train the model using the training sets\n",
    "regr.fit(X, Y)\n",
    "\n",
    "# Predict salary for the same individuals\n",
    "predicted_salary = regr.predict(X)\n",
    "\n",
    "# Plotting results\n",
    "f = plt.figure(figsize=[8,5])\n",
    "\n",
    "plt.scatter(X1, Y1, label = \"True values. Ethnicity = 1\")\n",
    "plt.scatter(X2, Y2, label = \"True values. Ethnicity = 0\")\n",
    "plt.plot(X, predicted_salary, label = \"Predicted by linear regression\")\n",
    "\n",
    "print(\"Mean squared error: %.2f\" % mean_squared_error(Y, predicted_salary))\n",
    "\n",
    "\n",
    "print(\"   - MAE protected group: %.2f\" % mean_absolute_error(Y1, regr.predict(X1)))\n",
    "print(\"   - MAE privileged group: %.2f \\n\" % mean_absolute_error(Y2, regr.predict(X2)))\n",
    "\n",
    "print(\"   - MAE lower salary group: %.2f\" % mean_absolute_error(Y[Y<1400], predicted_salary[Y<1400]))\n",
    "print(\"   - MAE higher salary group: %.2f \\n\" % mean_absolute_error(Y[Y>1400], predicted_salary[Y>1400]))\n",
    "\n",
    "\n",
    "# The coefficients of the regressor\n",
    "b_0 = regr.intercept_ #Independent term\n",
    "b_1 = tuple(regr.coef_) # Coefficient\n",
    "\n",
    "print(\"pred_salary = %f + %f * education\" % ((b_0, )+ b_1))\n",
    "plt.xlabel(\"Years of experience\", fontsize=15)\n",
    "plt.ylabel(\"Salary\", fontsize=15)\n",
    "\n",
    "plt.legend()\n",
    "plt.show()"
   ]
  },
  {
   "cell_type": "markdown",
   "metadata": {},
   "source": [
    "\n",
    "<br>\n",
    "<div class=\"alert alert-block alert-info col-md-12\">\n",
    "<b>Oberservations: <b>\n",
    "    <br>\n",
    "    <ul>\n",
    "        <li>The fitted model punishes people with low education more than necessary.</li>\n",
    "        <li>Also, it rewards people with high education more than deserved </li>\n",
    "        <li>It is by itself already incorrect reflection of the underlying process, and would\n",
    "make incorrect recommendations, if used as a recommender system for salaries.</li></ul>\n",
    "<br>\n",
    "\n"
   ]
  },
  {
   "cell_type": "markdown",
   "metadata": {},
   "source": [
    "####  2.1.2.2 Option 2: Use sensitive attribute"
   ]
  },
  {
   "cell_type": "code",
   "execution_count": 19,
   "metadata": {},
   "outputs": [
    {
     "data": {
      "image/png": "[encoded data removed]",
      "text/plain": [
       "<Figure size 432x288 with 1 Axes>"
      ]
     },
     "metadata": {
      "needs_background": "light"
     },
     "output_type": "display_data"
    },
    {
     "name": "stdout",
     "output_type": "stream",
     "text": [
      "Mean squared error: 0.00 \n",
      "\n",
      "pred_salary_model = 1000.000000 + 100.000000 * education + -500.000000 * ethnicity\n"
     ]
    }
   ],
   "source": [
    "# Predicting salary by also considering the protected column 'ethnicity'\n",
    "\n",
    "education= df['education'].values\n",
    "ethnicity = df['ethnicity'].values\n",
    "\n",
    "X=[[education[i], int(ethnicity[i])]  for i in range(len(education))]\n",
    "\n",
    "\n",
    "Y = df['salary'].values\n",
    "\n",
    "\n",
    "# Create linear regression object\n",
    "regr = linear_model.LinearRegression()\n",
    "\n",
    "# Train the model using the training sets\n",
    "regr.fit(X, Y)\n",
    "\n",
    "# Plot outputs\n",
    "plt.scatter(education, Y, label = \"Real\")\n",
    "\n",
    "predicted_salary = regr.predict(X)\n",
    "\n",
    "\n",
    "\n",
    "plt.scatter(education, predicted_salary, label = \"Predicted by linear regression\")\n",
    "plt.xlabel(\"Years of experience\", fontsize=15)\n",
    "plt.ylabel(\"Salary\", fontsize=15)\n",
    "\n",
    "plt.title(\"Perfect fit using all the information but we don't want to use the race of the individual\")\n",
    "plt.legend()\n",
    "plt.show()\n",
    "\n",
    "print(\"Mean squared error: %.2f \\n\" % mean_squared_error(Y, predicted_salary))\n",
    "\n",
    "\n",
    "# The coefficients of the regressor\n",
    "b_0 = regr.intercept_ #Independent term\n",
    "b_1 = tuple(regr.coef_) # Coefficients\n",
    "\n",
    "print(\"pred_salary_model = %f + %f * education + %f * ethnicity\" % ((b_0, )+ b_1))"
   ]
  },
  {
   "cell_type": "markdown",
   "metadata": {},
   "source": [
    "\n",
    "<br>\n",
    "<div class=\"alert alert-block alert-info col-md-12\">\n",
    "<b>Oberservations: <b>\n",
    "    <br>\n",
    "    <ul>\n",
    "        <li>Using all the information, we obtain a perfect fit, but we don't want to use a model that explicitly depends on the race!</li></ul>\n",
    "<br>\n",
    "\n"
   ]
  },
  {
   "cell_type": "markdown",
   "metadata": {},
   "source": [
    "####  2.1.2.3 Option 3:  Consider sensitive data and then, remove its coefficient. We obtain a constant error for all the individuals, so there is no discrimination.**"
   ]
  },
  {
   "cell_type": "code",
   "execution_count": 9,
   "metadata": {},
   "outputs": [
    {
     "name": "stdout",
     "output_type": "stream",
     "text": [
      "Mean squared error: 0.00\n",
      "   - MSE protected group: 250000.00\n",
      "   - MSE privileged group: 0.00 \n",
      "\n"
     ]
    },
    {
     "data": {
      "image/png": "[encoded data removed]",
      "text/plain": [
       "<Figure size 576x360 with 1 Axes>"
      ]
     },
     "metadata": {
      "needs_background": "light"
     },
     "output_type": "display_data"
    }
   ],
   "source": [
    "def predict_with_fair_regressor(_X):\n",
    "    _pred = []\n",
    "    for v in _X:\n",
    "        _pred.append(1000 + 100*v)\n",
    "    return np.array(_pred)\n",
    "\n",
    "\n",
    "X = df['education'].values.reshape(-1, 1)\n",
    "Y = df['salary'].values\n",
    "\n",
    "df1 = df[df['ethnicity'] == 1]\n",
    "df2 = df[df['ethnicity'] != 1]\n",
    "\n",
    "X1 = df1['education'].values.reshape(-1, 1)\n",
    "Y1 = df1['salary'].values\n",
    "\n",
    "X2 = df2['education'].values.reshape(-1, 1)\n",
    "Y2 = df2['salary'].values\n",
    "\n",
    "\n",
    "fair_Y1 = predict_with_fair_regressor(X1)\n",
    "fair_Y2 = predict_with_fair_regressor(X2)\n",
    "fair_Y = predict_with_fair_regressor(X)\n",
    "\n",
    "\n",
    "\n",
    "\n",
    "# Plotting results\n",
    "f = plt.figure(figsize=[8,5])\n",
    "\n",
    "plt.scatter(X1, Y1, label = \"True values. Ethnicity = 1\")\n",
    "plt.scatter(X2, Y2, label = \"True values. Ethnicity = 0\")\n",
    "plt.plot(X, fair_Y, label = \"Predicted by linear regression\")\n",
    "plt.xlabel(\"Years of experience\", fontsize=15)\n",
    "plt.ylabel(\"Salary\", fontsize=15)\n",
    "print(\"Mean squared error: %.2f\" % mean_squared_error(Y, predicted_salary))\n",
    "\n",
    "\n",
    "print(\"   - MSE protected group: %.2f\" % mean_squared_error(Y1, predict_with_fair_regressor(X1)))\n",
    "print(\"   - MSE privileged group: %.2f \\n\" % mean_squared_error(Y2, predict_with_fair_regressor(X2)))\n",
    "\n",
    "\n",
    "plt.legend()\n",
    "plt.show()\n",
    "\n"
   ]
  },
  {
   "cell_type": "markdown",
   "metadata": {},
   "source": [
    "\n",
    "<br>\n",
    "<div class=\"alert alert-block alert-info col-md-12\">\n",
    "<b>Oberservations: <b>\n",
    "    <br>\n",
    "    <ul>\n",
    "        <li>It equalizes salaries at the top bound</li>\n",
    "        <li>Also, it satisfies color-awareness since it does not use the enthnicity as input attribute</li>\n",
    "    </ul>\n",
    "\n",
    "</div>\n"
   ]
  },
  {
   "cell_type": "markdown",
   "metadata": {},
   "source": [
    "<div class=\"alert alert-block alert-success\">Check the provided examples and answer the following questions. \n",
    "    <br>\n",
    "    Please, elaborate your questions so we can use your answers to generate a debate in class:</div>\n",
    "<br>"
   ]
  },
  {
   "cell_type": "markdown",
   "metadata": {},
   "source": [
    "## Questions 1 (1 point):\n",
    "    1. Which option do you think is the more fair?\n",
    "    2. Which option would you prefer if you were a company having to pay the salaries?\n",
    "    3. Which option would you prefer if you were an individual with ethnicity=1?\n",
    "    4. Do you think ML engineers typically consider this ideas?\n",
    "    \n",
    "Please, remember to elaborate your answers"
   ]
  },
  {
   "cell_type": "markdown",
   "metadata": {},
   "source": [
    "**Your answers**:\n",
    "1. ...\n",
    "2. ...\n",
    "3. ...\n",
    "4. ..."
   ]
  },
  {
   "cell_type": "markdown",
   "metadata": {},
   "source": [
    "## 2.2 Algoritmic fairness in the real world: Adult Census Income\n",
    "\n",
    "This data was extracted from the [1994 Census bureau database](https://www.census.gov/en.html) by Ronny Kohavi and Barry Becker (Data Mining and Visualization, Silicon Graphics).\n",
    "\n",
    "The prediction task is to determine whether a person makes over $50K a year.\n"
   ]
  },
  {
   "cell_type": "code",
   "execution_count": 28,
   "metadata": {},
   "outputs": [
    {
     "data": {
      "text/html": [
       "<div>\n",
       "<style scoped>\n",
       "    .dataframe tbody tr th:only-of-type {\n",
       "        vertical-align: middle;\n",
       "    }\n",
       "\n",
       "    .dataframe tbody tr th {\n",
       "        vertical-align: top;\n",
       "    }\n",
       "\n",
       "    .dataframe thead th {\n",
       "        text-align: right;\n",
       "    }\n",
       "</style>\n",
       "<table border=\"1\" class=\"dataframe\">\n",
       "  <thead>\n",
       "    <tr style=\"text-align: right;\">\n",
       "      <th></th>\n",
       "      <th>age</th>\n",
       "      <th>workclass</th>\n",
       "      <th>fnlwgt</th>\n",
       "      <th>education</th>\n",
       "      <th>education-num</th>\n",
       "      <th>marital-status</th>\n",
       "      <th>occupation</th>\n",
       "      <th>relationship</th>\n",
       "      <th>race</th>\n",
       "      <th>sex</th>\n",
       "      <th>capital-gain</th>\n",
       "      <th>capital-loss</th>\n",
       "      <th>hours-per-week</th>\n",
       "      <th>native-country</th>\n",
       "      <th>income</th>\n",
       "    </tr>\n",
       "  </thead>\n",
       "  <tbody>\n",
       "    <tr>\n",
       "      <th>0</th>\n",
       "      <td>39</td>\n",
       "      <td>State-gov</td>\n",
       "      <td>77516</td>\n",
       "      <td>Bachelors</td>\n",
       "      <td>13</td>\n",
       "      <td>Never-married</td>\n",
       "      <td>Adm-clerical</td>\n",
       "      <td>Not-in-family</td>\n",
       "      <td>White</td>\n",
       "      <td>Male</td>\n",
       "      <td>2174</td>\n",
       "      <td>0</td>\n",
       "      <td>40</td>\n",
       "      <td>United-States</td>\n",
       "      <td>&lt;=50K</td>\n",
       "    </tr>\n",
       "    <tr>\n",
       "      <th>1</th>\n",
       "      <td>50</td>\n",
       "      <td>Self-emp-not-inc</td>\n",
       "      <td>83311</td>\n",
       "      <td>Bachelors</td>\n",
       "      <td>13</td>\n",
       "      <td>Married-civ-spouse</td>\n",
       "      <td>Exec-managerial</td>\n",
       "      <td>Husband</td>\n",
       "      <td>White</td>\n",
       "      <td>Male</td>\n",
       "      <td>0</td>\n",
       "      <td>0</td>\n",
       "      <td>13</td>\n",
       "      <td>United-States</td>\n",
       "      <td>&lt;=50K</td>\n",
       "    </tr>\n",
       "    <tr>\n",
       "      <th>2</th>\n",
       "      <td>38</td>\n",
       "      <td>Private</td>\n",
       "      <td>215646</td>\n",
       "      <td>HS-grad</td>\n",
       "      <td>9</td>\n",
       "      <td>Divorced</td>\n",
       "      <td>Handlers-cleaners</td>\n",
       "      <td>Not-in-family</td>\n",
       "      <td>White</td>\n",
       "      <td>Male</td>\n",
       "      <td>0</td>\n",
       "      <td>0</td>\n",
       "      <td>40</td>\n",
       "      <td>United-States</td>\n",
       "      <td>&lt;=50K</td>\n",
       "    </tr>\n",
       "    <tr>\n",
       "      <th>3</th>\n",
       "      <td>53</td>\n",
       "      <td>Private</td>\n",
       "      <td>234721</td>\n",
       "      <td>11th</td>\n",
       "      <td>7</td>\n",
       "      <td>Married-civ-spouse</td>\n",
       "      <td>Handlers-cleaners</td>\n",
       "      <td>Husband</td>\n",
       "      <td>Black</td>\n",
       "      <td>Male</td>\n",
       "      <td>0</td>\n",
       "      <td>0</td>\n",
       "      <td>40</td>\n",
       "      <td>United-States</td>\n",
       "      <td>&lt;=50K</td>\n",
       "    </tr>\n",
       "    <tr>\n",
       "      <th>4</th>\n",
       "      <td>28</td>\n",
       "      <td>Private</td>\n",
       "      <td>338409</td>\n",
       "      <td>Bachelors</td>\n",
       "      <td>13</td>\n",
       "      <td>Married-civ-spouse</td>\n",
       "      <td>Prof-specialty</td>\n",
       "      <td>Wife</td>\n",
       "      <td>Black</td>\n",
       "      <td>Female</td>\n",
       "      <td>0</td>\n",
       "      <td>0</td>\n",
       "      <td>40</td>\n",
       "      <td>Cuba</td>\n",
       "      <td>&lt;=50K</td>\n",
       "    </tr>\n",
       "  </tbody>\n",
       "</table>\n",
       "</div>"
      ],
      "text/plain": [
       "   age          workclass  fnlwgt   education  education-num  \\\n",
       "0   39          State-gov   77516   Bachelors             13   \n",
       "1   50   Self-emp-not-inc   83311   Bachelors             13   \n",
       "2   38            Private  215646     HS-grad              9   \n",
       "3   53            Private  234721        11th              7   \n",
       "4   28            Private  338409   Bachelors             13   \n",
       "\n",
       "        marital-status          occupation    relationship    race      sex  \\\n",
       "0        Never-married        Adm-clerical   Not-in-family   White     Male   \n",
       "1   Married-civ-spouse     Exec-managerial         Husband   White     Male   \n",
       "2             Divorced   Handlers-cleaners   Not-in-family   White     Male   \n",
       "3   Married-civ-spouse   Handlers-cleaners         Husband   Black     Male   \n",
       "4   Married-civ-spouse      Prof-specialty            Wife   Black   Female   \n",
       "\n",
       "   capital-gain  capital-loss  hours-per-week  native-country  income  \n",
       "0          2174             0              40   United-States   <=50K  \n",
       "1             0             0              13   United-States   <=50K  \n",
       "2             0             0              40   United-States   <=50K  \n",
       "3             0             0              40   United-States   <=50K  \n",
       "4             0             0              40            Cuba   <=50K  "
      ]
     },
     "execution_count": 28,
     "metadata": {},
     "output_type": "execute_result"
    }
   ],
   "source": [
    "## Loading the dataset using pandas\n",
    "columns_names = (\n",
    "    'age',\n",
    "    'workclass', #Private, Self-emp-not-inc, Self-emp-inc, Federal-gov, Local-gov, State-gov, Without-pay, Never-worked.\n",
    "    'fnlwgt', # \"weight\" of that person in the dataset (i.e. how many people does that person represent) -> https://www.kansascityfed.org/research/datamuseum/cps/coreinfo/keyconcepts/weights\n",
    "    'education',\n",
    "    'education-num',\n",
    "    'marital-status',\n",
    "    'occupation',\n",
    "    'relationship',\n",
    "    'race',\n",
    "    'sex',\n",
    "    'capital-gain',\n",
    "    'capital-loss',\n",
    "    'hours-per-week',\n",
    "    'native-country',\n",
    "    'income',\n",
    ")\n",
    "\n",
    "df = pd.read_csv(\"../Data/adult.data\", names=columns_names)\n",
    "\n",
    "df = df.dropna()\n",
    "df.head()"
   ]
  },
  {
   "cell_type": "markdown",
   "metadata": {},
   "source": [
    "### 2.2.1 Exploratory Analysis\n",
    "\n",
    "We begin the analysis of the data by analyzing the distributions among different attributes\n",
    "\n",
    "We split the population in two groups: \n",
    "- Those who make more than 50K (*privileged*)\n",
    "- Those who make less or equal than 50K (*disadvantaged* / *protected*)\n",
    "\n",
    "\n",
    "Base on that grouping, we want to understand what are the distributions of such inviduals according to age, workclass, education level, gender and/or race.\n",
    "\n",
    "\n",
    "\n",
    "#### 2.2.1.1 Age\n",
    "\n",
    "age: the age of an individual Integer greater than 0"
   ]
  },
  {
   "cell_type": "code",
   "execution_count": 11,
   "metadata": {},
   "outputs": [
    {
     "data": {
      "text/plain": [
       "Text(0, 0.5, 'Age / Income')"
      ]
     },
     "execution_count": 11,
     "metadata": {},
     "output_type": "execute_result"
    },
    {
     "data": {
      "image/png": "[encoded data removed]",
      "text/plain": [
       "<Figure size 1440x360 with 1 Axes>"
      ]
     },
     "metadata": {
      "needs_background": "light"
     },
     "output_type": "display_data"
    }
   ],
   "source": [
    "pd.crosstab(df.age,df.income).plot(kind='bar', figsize=(20,5), stacked=True)\n",
    "plt.title('Age / Income')\n",
    "plt.xlabel('Age')\n",
    "plt.ylabel('Age / Income')"
   ]
  },
  {
   "cell_type": "markdown",
   "metadata": {},
   "source": [
    "## Example of interpretation: \n",
    "**(no need to answer here)**\n",
    "\n",
    "<div class=\"alert alert-block alert-success\">Interpret what you see in the age plot above. Do inviduals of both groups have similar demographics?.</div>\n",
    "\n",
    "**Your answer**:\n",
    "* Older people have the chance to earn more than the younger ones\n",
    "* Teens earn less than 50k\n",
    "* From an age where you have most likely graduated from college, you can start to earn over 50k"
   ]
  },
  {
   "cell_type": "markdown",
   "metadata": {},
   "source": [
    "#### 2.2.1.2 Workclass\n",
    "workclass: a general term to represent the employment status of an individual Private, Self-emp-not-inc, Self-emp-inc, Federal-gov, Local-gov, State-gov, Without-pay, Never-worked."
   ]
  },
  {
   "cell_type": "code",
   "execution_count": 12,
   "metadata": {},
   "outputs": [
    {
     "data": {
      "text/plain": [
       "Text(0, 0.5, 'Workclass / Income')"
      ]
     },
     "execution_count": 12,
     "metadata": {},
     "output_type": "execute_result"
    },
    {
     "data": {
      "image/png": "[encoded data removed]",
      "text/plain": [
       "<Figure size 1440x720 with 1 Axes>"
      ]
     },
     "metadata": {
      "needs_background": "light"
     },
     "output_type": "display_data"
    }
   ],
   "source": [
    "pd.crosstab(df.workclass,df.income).plot(kind='bar', figsize=(20,10), stacked=True)\n",
    "plt.title('Workclass / Income')\n",
    "plt.xlabel('Workclass')\n",
    "plt.ylabel('Workclass / Income')"
   ]
  },
  {
   "cell_type": "code",
   "execution_count": 13,
   "metadata": {},
   "outputs": [
    {
     "data": {
      "text/plain": [
       "workclass          income\n",
       " ?                  <=50K     89.6%\n",
       "                    >50K      10.4%\n",
       " Federal-gov        <=50K     61.4%\n",
       "                    >50K      38.6%\n",
       " Local-gov          <=50K     70.5%\n",
       "                    >50K      29.5%\n",
       " Never-worked       <=50K    100.0%\n",
       " Private            <=50K     78.1%\n",
       "                    >50K      21.9%\n",
       " Self-emp-inc       >50K      55.7%\n",
       "                    <=50K     44.3%\n",
       " Self-emp-not-inc   <=50K     71.5%\n",
       "                    >50K      28.5%\n",
       " State-gov          <=50K     72.8%\n",
       "                    >50K      27.2%\n",
       " Without-pay        <=50K    100.0%\n",
       "Name: income, dtype: object"
      ]
     },
     "execution_count": 13,
     "metadata": {},
     "output_type": "execute_result"
    }
   ],
   "source": [
    "df.groupby('workclass').income.value_counts(normalize=True).mul(100).round(1).astype(str) + '%'"
   ]
  },
  {
   "cell_type": "markdown",
   "metadata": {},
   "source": [
    "## Question 2(0.5 point):\n",
    "\n",
    "<div class=\"alert alert-block alert-success\">Interpret what you see in the work class plot above. Do inviduals of both groups have similar demographics?. </div>\n",
    "\n",
    "<div class=\"alert alert-block alert-warning\">To answer this and the following questions, you should describe general findings. Two-Three bullet points is enough. If you need some extra coding, feel free to add it above the answer cell.</div>\n",
    "\n",
    "<div class=\"alert alert-block alert-info\">To interpret the work-class results, you can focus on:\n",
    "    <ul>\n",
    "        <li>Public vs private sector</li>\n",
    "        <li>Which are the groups with bigger chances or getting high salary. </li>\n",
    "    </ul>"
   ]
  },
  {
   "cell_type": "code",
   "execution_count": 35,
   "metadata": {},
   "outputs": [],
   "source": [
    "## Optional: If you need some more code, add it here"
   ]
  },
  {
   "cell_type": "markdown",
   "metadata": {},
   "source": [
    "**Your answer**:\n",
    "* ..."
   ]
  },
  {
   "cell_type": "markdown",
   "metadata": {},
   "source": [
    "#### 2.2.1.3 Education level\n",
    "\n",
    "education: the highest level of education achieved by an individual. Bachelors, Some-college, 11th, HS-grad, Prof-school, Assoc-acdm, Assoc-voc, 9th, 7th-8th, 12th, Masters, 1st-4th, 10th, Doctorate, 5th-6th, Preschool."
   ]
  },
  {
   "cell_type": "code",
   "execution_count": 14,
   "metadata": {},
   "outputs": [
    {
     "data": {
      "text/plain": [
       "Text(0, 0.5, 'Education / Income')"
      ]
     },
     "execution_count": 14,
     "metadata": {},
     "output_type": "execute_result"
    },
    {
     "data": {
      "image/png": "[encoded data removed]",
      "text/plain": [
       "<Figure size 1440x720 with 1 Axes>"
      ]
     },
     "metadata": {
      "needs_background": "light"
     },
     "output_type": "display_data"
    }
   ],
   "source": [
    "pd.crosstab(df.education,df.income).plot(kind='bar', figsize=(20,10), stacked=True)\n",
    "plt.title('Education / Income')\n",
    "plt.xlabel('Education')\n",
    "plt.ylabel('Education / Income')"
   ]
  },
  {
   "cell_type": "markdown",
   "metadata": {},
   "source": [
    "## Question 3(0.5 point):\n",
    "<div class=\"alert alert-block alert-success\">Interpret what you see in the education level plot above. Do inviduals of both groups have similar demographics?.</div>\n",
    "\n"
   ]
  },
  {
   "cell_type": "code",
   "execution_count": 34,
   "metadata": {},
   "outputs": [],
   "source": [
    "## Optional: If you need some more code, add it here"
   ]
  },
  {
   "cell_type": "markdown",
   "metadata": {},
   "source": [
    "**Your answer**:\n",
    "* ..."
   ]
  },
  {
   "cell_type": "markdown",
   "metadata": {},
   "source": [
    "#### 2.2.1.4 Gender"
   ]
  },
  {
   "cell_type": "code",
   "execution_count": 15,
   "metadata": {},
   "outputs": [
    {
     "data": {
      "text/plain": [
       "Text(0, 0.5, 'Sex / Income')"
      ]
     },
     "execution_count": 15,
     "metadata": {},
     "output_type": "execute_result"
    },
    {
     "data": {
      "image/png": "[encoded data removed]",
      "text/plain": [
       "<Figure size 1440x360 with 1 Axes>"
      ]
     },
     "metadata": {
      "needs_background": "light"
     },
     "output_type": "display_data"
    }
   ],
   "source": [
    "pd.crosstab(df.sex,df.income).plot(kind='bar', figsize=(20,5), stacked=True)\n",
    "plt.title('Sex / Income')\n",
    "plt.xlabel('Sex')\n",
    "plt.ylabel('Sex / Income')"
   ]
  },
  {
   "cell_type": "markdown",
   "metadata": {},
   "source": [
    "## Question 4(0.5 point):\n",
    "<div class=\"alert alert-block alert-success\">Interpret what you see in the gender plot above. Do inviduals of both groups have similar demographics?.</div>\n",
    "\n"
   ]
  },
  {
   "cell_type": "code",
   "execution_count": null,
   "metadata": {},
   "outputs": [],
   "source": [
    "## Optional: If you need some more code, add it here"
   ]
  },
  {
   "cell_type": "markdown",
   "metadata": {},
   "source": [
    "**Your answer**:\n",
    "* ..."
   ]
  },
  {
   "cell_type": "markdown",
   "metadata": {},
   "source": [
    "#### 2.2.1.5 Race"
   ]
  },
  {
   "cell_type": "code",
   "execution_count": 17,
   "metadata": {},
   "outputs": [
    {
     "data": {
      "text/plain": [
       "Text(0, 0.5, 'Race / Income')"
      ]
     },
     "execution_count": 17,
     "metadata": {},
     "output_type": "execute_result"
    },
    {
     "data": {
      "image/png": "[encoded data removed]",
      "text/plain": [
       "<Figure size 1440x360 with 1 Axes>"
      ]
     },
     "metadata": {
      "needs_background": "light"
     },
     "output_type": "display_data"
    }
   ],
   "source": [
    "pd.crosstab(df.race,df.income).plot(kind='bar', figsize=(20,5), stacked=True)\n",
    "plt.title('Race / Income')\n",
    "plt.xlabel('Race')\n",
    "plt.ylabel('Race / Income')"
   ]
  },
  {
   "cell_type": "markdown",
   "metadata": {},
   "source": [
    "## Question 5(0.5 point):\n",
    "<div class=\"alert alert-block alert-success\">Interpret what you see in the race plot above. Do inviduals of both groups have similar demographics?.</div>\n"
   ]
  },
  {
   "cell_type": "code",
   "execution_count": 36,
   "metadata": {},
   "outputs": [],
   "source": [
    "## Optional: If you need some more code, add it here"
   ]
  },
  {
   "cell_type": "markdown",
   "metadata": {},
   "source": [
    "**Your answer**:\n",
    "* ..."
   ]
  },
  {
   "cell_type": "markdown",
   "metadata": {},
   "source": [
    "## 2.2.2 Training a model to predict income based on this dataset\n",
    "\n",
    "Now, we will use Sklearn to build a model that predicts the income"
   ]
  },
  {
   "cell_type": "markdown",
   "metadata": {},
   "source": [
    "#### 1. Transforming data for SKLEARN"
   ]
  },
  {
   "cell_type": "code",
   "execution_count": 18,
   "metadata": {},
   "outputs": [
    {
     "data": {
      "text/plain": [
       "((21164, 108), (11397, 108))"
      ]
     },
     "execution_count": 18,
     "metadata": {},
     "output_type": "execute_result"
    }
   ],
   "source": [
    "## Shuffle dataset\n",
    "df = df.sample(frac=1).reset_index(drop=True)\n",
    "\n",
    "\n",
    "X = pd.get_dummies(df.drop(columns=[\"income\"]))\n",
    "\n",
    "le = LabelEncoder()\n",
    "y = le.fit_transform(df[\"income\"])\n",
    "\n",
    "X_train, X_test, y_train, y_test = train_test_split(X, y, test_size=0.35, random_state=19)\n",
    "X_train.shape, X_test.shape"
   ]
  },
  {
   "cell_type": "code",
   "execution_count": 19,
   "metadata": {},
   "outputs": [
    {
     "data": {
      "text/plain": [
       "array([0, 0, 1, ..., 0, 0, 0])"
      ]
     },
     "execution_count": 19,
     "metadata": {},
     "output_type": "execute_result"
    }
   ],
   "source": [
    "y_train"
   ]
  },
  {
   "cell_type": "code",
   "execution_count": 20,
   "metadata": {},
   "outputs": [
    {
     "name": "stdout",
     "output_type": "stream",
     "text": [
      "  <=50K in train: 0.24045549045549044\n",
      "  <=50K in test: 0.2414670527331754\n"
     ]
    }
   ],
   "source": [
    "print(\" {} in train: {}\".format(le.inverse_transform([0])[0], len(y_train[y_train==1]) / len(y_train)))\n",
    "print(\" {} in test: {}\".format(le.inverse_transform([0])[0], len(y_test[y_test==1]) / len(y_test)))"
   ]
  },
  {
   "cell_type": "code",
   "execution_count": 21,
   "metadata": {},
   "outputs": [],
   "source": [
    "# define the reference model\n",
    "model = RandomForestClassifier(n_estimators=100)\n",
    "model_name = \"Random Forest\"\n",
    "\n",
    "model.fit(X_train, y_train)\n",
    "y_pred = model.predict(X_test)\n"
   ]
  },
  {
   "cell_type": "markdown",
   "metadata": {},
   "source": [
    "### Does the model work well? Assessing model performance"
   ]
  },
  {
   "cell_type": "code",
   "execution_count": 22,
   "metadata": {},
   "outputs": [
    {
     "data": {
      "text/plain": [
       "0.8538211810125471"
      ]
     },
     "execution_count": 22,
     "metadata": {},
     "output_type": "execute_result"
    }
   ],
   "source": [
    "accuracy_score(y_test, y_pred)"
   ]
  },
  {
   "cell_type": "markdown",
   "metadata": {},
   "source": [
    "## Question 6 (2 point):\n",
    "<div class=\"alert alert-block alert-success\">Based on what we have seen, create a function that plots (using matplotlib) the observed performance of this system for the protected and disadvantaged groups.\n",
    "    \n",
    "For this, you can use one of the protected attributes seen above (age, race, workclass...).\n",
    "\n",
    "First, you should run an analysis based on model performance where can use different performance metrics such as: accuracy, roc_auc, precision, recall...\n",
    "\n",
    "<ul>\n",
    "    <li>Accuracy</li>\n",
    "    <li>Area under the ROC curve</li>\n",
    "    <li>Precision</li>\n",
    "    <li> Any other thay you think applies to this use case</li>\n",
    "</ul>\n",
    "\n",
    "\n",
    "Then, you should do a second analysis, to see where does the model commit more errors. For that you can use metrics such as:\n",
    "<ul>\n",
    "    <li>False Positive Rate (FPR)</li>\n",
    "    <li>False Negative Rate (FNR)</li>\n",
    "    <li>or any other that you think applies to this use case.</li>\n",
    "</ul>\n",
    "\n",
    "\n",
    "<br>\n",
    "After, write a dissertation on your opinions on your findings.\n",
    "\n",
    "</div>"
   ]
  },
  {
   "cell_type": "code",
   "execution_count": 39,
   "metadata": {},
   "outputs": [],
   "source": [
    "## Your model performance analysis here"
   ]
  },
  {
   "cell_type": "code",
   "execution_count": 38,
   "metadata": {},
   "outputs": [],
   "source": [
    "## Your model error analysis here"
   ]
  },
  {
   "cell_type": "markdown",
   "metadata": {},
   "source": [
    "**Your opinion here:**"
   ]
  },
  {
   "cell_type": "markdown",
   "metadata": {},
   "source": [
    "<br>\n",
    "<br>\n",
    "<br>\n",
    "<br>\n",
    "\n",
    "\n",
    "# Session 04 "
   ]
  },
  {
   "cell_type": "markdown",
   "metadata": {},
   "source": [
    "## 2.3 Using recidivism data exploration (SAVRY)\n",
    "\n",
    "This Python Notebook is based in a notebook created by [ChaTo](http://chato.cl/research/) on January 2019 for educational purposes. \n",
    "\n",
    "\n",
    "It corresponds to a set of 850 juvenile offenders in Catalonia who were evaluated in 2010 using **SAVRY**, a structured risk assessment tool. The data on recidivism indicates if the same people committed a new offence in 2013-2015.\n",
    "\n",
    "\n",
    "This is a sub-set of a dataset obtained by the *Centre d'Estudis Jurídics i Formació Especialitzada* of the Catalan government and released in 2017. The data was downloaded from [CEJFE / Generalitat de Catalunya](http://cejfe.gencat.cat/en/recerca/cataleg/crono/2017/reincidencia-jj/) and prepared by Marzieh Karimihaghighi and Carlos Castillo.\n",
    "\n",
    "\n",
    "### 2.3.1 About the data\n",
    "\n",
    "Do not use the data in this directory for research, as it is just a sub-set of attributes. Instead, use the [original dataset](http://cejfe.gencat.cat/en/recerca/cataleg/crono/2017/reincidencia-jj/) and cite the following publication:\n",
    "\n",
    "```\n",
    "@misc{cejfe_2017_savry,\n",
    " title={La reincid\\`{e}ncia en la just\\'{i}cia de menors},\n",
    " author={Marta Blanch and Manel Capdevila and Marta Ferrer and Berta Framis and \\'{U}rsula Ruiz and Judit Mora and Ares Batlle and Berta L\\'{o}pez},\n",
    " year={2017},\n",
    " howpublished={CEJFE},\n",
    " url={http://cejfe.gencat.cat/en/recerca/cataleg/crono/2017/reincidencia-jj/}\n",
    "}\n",
    "```\n",
    "\n",
    "### 2.3.2 Mapping of variables to English\n",
    "\n",
    "A codebook is available at the above-cited URL. The following is the mapping from English variables in this dataset (a subset of the variables in CEJFE's study) to the original variable names in Catalan.\n",
    "\n",
    "| Variable in English | Original variable in Catalan |\n",
    "|---------------------|------------------------------|\n",
    "|\tgender\t|\tV1_sexe\t|\n",
    "|\tnationality\t|\tV2_Foreigner\t|\n",
    "|\tmain_crime_age\t|\tV8_edat_fet\t|\n",
    "|\tcriminal_records\t|\tV12_nombre_ante_agrupat\t|\n",
    "|\tmain_crime_category\t|\tV15_fet_agrupat\t|\n",
    "|\tmain_crime_is_violent\t|\tV16_fet_violencia\t|\n",
    "|\trisk01_previous_violence\t|\tV65_@1_violencia_previa\t|\n",
    "|\trisk02_history_nonviolent_offences\t|\tV66_@2_historia_delictes_no_violents\t|\n",
    "|\trisk03_early_violence_before_14\t|\tV67_@3_inici_precoç_violencia\t|\n",
    "|\trisk04_past_intervention_fail\t|\tV68_@4_fracas_intervencions_anteriors\t|\n",
    "|\trisk05_self_harm_suicide_attempts\t|\tV69_@5_intents_autolesio_suicidi_anteriors\t|\n",
    "|\trisk06_violence_at_home\t|\tV70_@6_exposicio_violencia_llar\t|\n",
    "|\trisk07_childhood_mistreatment\t|\tV71_@7_historia_mHighracte_infantil\t|\n",
    "|\trisk08_criminal_parent_caregiver\t|\tV72_@8_delinquencia_pares\t|\n",
    "|\trisk09_early_separation_parents\t|\tV73_@9_separacio_precoç_pares\t|\n",
    "|\trisk10_poor_school_achievement\t|\tV74_@10_Low_rendiment_escola\t|\n",
    "|\trisk11_delinquency_peer_group\t|\tV75_@11_delinquencia_grup_iguals\t|\n",
    "|\trisk12_rejection_peer_group\t|\tV76_@12_rebuig_grup_iguals\t|\n",
    "|\trisk13_poor_stress_coping\t|\tV77_@13_estrés_incapacitat_enfrontar_dificultats\t|\n",
    "|\trisk14_poor_parental_skills_parents\t|\tV78_@14_escassa_habilitat_pares_educar\t|\n",
    "|\trisk15_lack_of_personal_social_support\t|\tV79_@15_manca_suport_personal_social\t|\n",
    "|\trisk16_marginalized_environment\t|\tV80_@16_entorn_marginal\t|\n",
    "|\trisk17_negative_attitudes\t|\tV81_@17_actitud_negatives\t|\n",
    "|\trisk18_risk_taker_impulsive\t|\tV82_@18_assumpcio_riscos_impulsivitat\t|\n",
    "|\trisk19_drug_abuse\t|\tV83_@19_problemes_consum_toxics\t|\n",
    "|\trisk20_anger_management_issues\t|\tV84_@20_problemes_maneig_enuig\t|\n",
    "|\trisk21_low_empaty\t|\tV85_@21_Low_nivell_empatia_remordiment\t|\n",
    "|\trisk22_attention_deficit\t|\tV86_@22_problemes_concentracio_hiperactivitat\t|\n",
    "|\trisk23_poor_compliance_interventions\t|\tV87_@23_Lowa_colaboracio_intervencions\t|\n",
    "|\trisk24_low_commitment_school\t|\tV88_@24_Low_compromis_escolar_laboral\t|\n",
    "|\tprotective01_prosocial_activities\t|\tV89_@P1_impicacio_prosocial\t|\n",
    "|\tprotective02_strong_social_support\t|\tV90_@P2_suport_social_fort\t|\n",
    "|\tprotective03_strong_link_prosocial_adult\t|\tV91_@P3_forta_vinculacio_adult_prosocial\t|\n",
    "|\tprotective04_positive_attitude_interventions\t|\tV92_@P4_actitud_positiva_intervencions_autoritat\t|\n",
    "|\tprotective05_high_commitment_school_or_work\t|\tV93_@P5_fort_compromis_escola_treball\t|\n",
    "|\tprotective06_perseverant_personality\t|\tV94_@P6_perseverança_tret_personalitat\t|\n",
    "|\taverage_01_antisocial\t|\tV95_FACT1mean_ANTISOCIAL\t|\n",
    "|\taverage_02_family\t|\tV96_FACT2mean_DINAMICAFAM\t|\n",
    "|\taverage_03_personality\t|\tV97_FACT3mean_PERSONALITAT\t|\n",
    "|\taverage_04_social_support\t|\tV98_FACT4mean_SUPORTSOCIAL\t|\n",
    "|\taverage_05_susceptibility_treatment\t|\tV99_FACT5mean_SUSCEPTIBILITAT\t|\n",
    "|\tsum_historic_risk_items\t|\tV61_SAVRY_historics_total_score\t|\n",
    "|\tsum_social_risk_items\t|\tV62_SAVRY_socials_total_score\t|\n",
    "|\tsum_individual_risk_items\t|\tV63_SAVRY_individuals_total_score\t|\n",
    "|\tsum_all_risk_items\t|\tV60_SAVRY_total_score\t|\n",
    "|\tsum_all_protective_items\t|\tV64_SAVRY_proteccio_total_score\t|\n",
    "|\tprofessional_risk_evaluation\t|\tV56_@R1_resum_risc_global_reverse\t|\n",
    "|\trecidivism\t|\tV132_REINCIDENCIA_2013\t|\n",
    "|\trecidivism_number_offences\t|\tV120_nombre_reincidencies_2013\t|\n",
    "|\trecidividm_category_first_offence\t|\tV123_rein_fet_agrupat \t|\n",
    "|\trecidivism_violence_first_offence\t|\tV124_rein_fet_violencia_2013\t|\n",
    "|\trecidivism_severity\t|\tV131_severitat_puntuacio_2013\t|\n",
    "\n",
    "### 2.3.4 Technical description of the CEJFE study\n",
    "\n",
    "**Territory**: Catalonia\n",
    "\n",
    "**Contents**: Minors or young offenders who finished a measure or program in juvenile justice in 2010 (N=4,753). Samples from 9 previous studies have been retrieved and included as primary data, with a total of 14,681 juveniles who completed a program or measure between 2002 and 2010.\n",
    "\n",
    "**Follow-up period**: From the end of the base case to 31 December 2013 (3.5 years on average). From the end of the base case to 31 December 2015 (5.5 years on average).\n",
    "\n",
    "**Analysis**: Descriptive analyses, contingency tables, variance analysis, correlations analysis, reliability analysis, ROC curve analysis, odds ratio analysis and factor analysis. Study of descriptive and recidivism variables.\n",
    "\n",
    "**Sources of the data**:\n",
    "\n",
    "* SIJJ (Juvenile Justice Information System)\n",
    "* SIMEPC (Community sanctions and measures Information System)\n",
    "* SIPC (Penitentiary Information System of Catalonia)\n",
    "* SAVRY (instrument for assessing the risk of recidivism in young people)\n",
    "\n",
    "**Software used by CEJFE**: IBM SSO Statistics 22.0 Statistical Package\n",
    "\n"
   ]
  },
  {
   "cell_type": "markdown",
   "metadata": {},
   "source": [
    "### 2.3.5 Loading the dataset"
   ]
  },
  {
   "cell_type": "code",
   "execution_count": 40,
   "metadata": {},
   "outputs": [
    {
     "data": {
      "text/html": [
       "<div>\n",
       "<style scoped>\n",
       "    .dataframe tbody tr th:only-of-type {\n",
       "        vertical-align: middle;\n",
       "    }\n",
       "\n",
       "    .dataframe tbody tr th {\n",
       "        vertical-align: top;\n",
       "    }\n",
       "\n",
       "    .dataframe thead th {\n",
       "        text-align: right;\n",
       "    }\n",
       "</style>\n",
       "<table border=\"1\" class=\"dataframe\">\n",
       "  <thead>\n",
       "    <tr style=\"text-align: right;\">\n",
       "      <th></th>\n",
       "      <th>gender</th>\n",
       "      <th>nationality</th>\n",
       "      <th>main_crime_age</th>\n",
       "      <th>criminal_records</th>\n",
       "      <th>main_crime_category</th>\n",
       "      <th>main_crime_is_violent</th>\n",
       "      <th>risk01_previous_violence</th>\n",
       "      <th>risk02_history_nonviolent_offences</th>\n",
       "      <th>risk03_early_violence_before_14</th>\n",
       "      <th>risk04_past_intervention_fail</th>\n",
       "      <th>...</th>\n",
       "      <th>sum_social_risk_items</th>\n",
       "      <th>sum_individual_risk_items</th>\n",
       "      <th>sum_all_risk_items</th>\n",
       "      <th>sum_all_protective_items</th>\n",
       "      <th>professional_risk_evaluation</th>\n",
       "      <th>recidivism</th>\n",
       "      <th>recidivism_number_offences</th>\n",
       "      <th>recidividm_category_first_offence</th>\n",
       "      <th>recidivism_violence_first_offence</th>\n",
       "      <th>recidivism_severity</th>\n",
       "    </tr>\n",
       "  </thead>\n",
       "  <tbody>\n",
       "    <tr>\n",
       "      <th>0</th>\n",
       "      <td>Male</td>\n",
       "      <td>Spanish</td>\n",
       "      <td>17</td>\n",
       "      <td>1 or 2 criminal records</td>\n",
       "      <td>Nonviolent against property</td>\n",
       "      <td>No violent</td>\n",
       "      <td>Moderate</td>\n",
       "      <td>Moderate</td>\n",
       "      <td>Low</td>\n",
       "      <td>Low</td>\n",
       "      <td>...</td>\n",
       "      <td>3</td>\n",
       "      <td>5</td>\n",
       "      <td>12</td>\n",
       "      <td>1</td>\n",
       "      <td>Low</td>\n",
       "      <td>No</td>\n",
       "      <td>0</td>\n",
       "      <td>Not applicable</td>\n",
       "      <td>Not applicable</td>\n",
       "      <td>0</td>\n",
       "    </tr>\n",
       "    <tr>\n",
       "      <th>1</th>\n",
       "      <td>Male</td>\n",
       "      <td>Spanish</td>\n",
       "      <td>17</td>\n",
       "      <td>3 to 5 criminal records</td>\n",
       "      <td>Against persons</td>\n",
       "      <td>Violent</td>\n",
       "      <td>Moderate</td>\n",
       "      <td>Moderate</td>\n",
       "      <td>Low</td>\n",
       "      <td>Moderate</td>\n",
       "      <td>...</td>\n",
       "      <td>5</td>\n",
       "      <td>6</td>\n",
       "      <td>19</td>\n",
       "      <td>4</td>\n",
       "      <td>Moderate</td>\n",
       "      <td>Yes</td>\n",
       "      <td>1</td>\n",
       "      <td>Others</td>\n",
       "      <td>No violent</td>\n",
       "      <td>1</td>\n",
       "    </tr>\n",
       "    <tr>\n",
       "      <th>2</th>\n",
       "      <td>Male</td>\n",
       "      <td>Foreigner</td>\n",
       "      <td>16</td>\n",
       "      <td>1 or 2 criminal records</td>\n",
       "      <td>Nonviolent against property</td>\n",
       "      <td>No violent</td>\n",
       "      <td>Low</td>\n",
       "      <td>Low</td>\n",
       "      <td>Low</td>\n",
       "      <td>Low</td>\n",
       "      <td>...</td>\n",
       "      <td>4</td>\n",
       "      <td>1</td>\n",
       "      <td>9</td>\n",
       "      <td>3</td>\n",
       "      <td>Low</td>\n",
       "      <td>No</td>\n",
       "      <td>0</td>\n",
       "      <td>Not applicable</td>\n",
       "      <td>Not applicable</td>\n",
       "      <td>0</td>\n",
       "    </tr>\n",
       "    <tr>\n",
       "      <th>3</th>\n",
       "      <td>Male</td>\n",
       "      <td>Spanish</td>\n",
       "      <td>17</td>\n",
       "      <td>0 criminal records</td>\n",
       "      <td>Against persons</td>\n",
       "      <td>Violent</td>\n",
       "      <td>Low</td>\n",
       "      <td>Low</td>\n",
       "      <td>Low</td>\n",
       "      <td>Low</td>\n",
       "      <td>...</td>\n",
       "      <td>1</td>\n",
       "      <td>5</td>\n",
       "      <td>9</td>\n",
       "      <td>2</td>\n",
       "      <td>High</td>\n",
       "      <td>No</td>\n",
       "      <td>0</td>\n",
       "      <td>Not applicable</td>\n",
       "      <td>Not applicable</td>\n",
       "      <td>0</td>\n",
       "    </tr>\n",
       "    <tr>\n",
       "      <th>4</th>\n",
       "      <td>Male</td>\n",
       "      <td>Spanish</td>\n",
       "      <td>16</td>\n",
       "      <td>3 to 5 criminal records</td>\n",
       "      <td>Nonviolent against property</td>\n",
       "      <td>No violent</td>\n",
       "      <td>Moderate</td>\n",
       "      <td>Moderate</td>\n",
       "      <td>Low</td>\n",
       "      <td>Low</td>\n",
       "      <td>...</td>\n",
       "      <td>2</td>\n",
       "      <td>2</td>\n",
       "      <td>13</td>\n",
       "      <td>0</td>\n",
       "      <td>Moderate</td>\n",
       "      <td>No</td>\n",
       "      <td>0</td>\n",
       "      <td>Not applicable</td>\n",
       "      <td>Not applicable</td>\n",
       "      <td>0</td>\n",
       "    </tr>\n",
       "  </tbody>\n",
       "</table>\n",
       "<p>5 rows × 52 columns</p>\n",
       "</div>"
      ],
      "text/plain": [
       "  gender nationality  main_crime_age         criminal_records  \\\n",
       "0   Male     Spanish              17  1 or 2 criminal records   \n",
       "1   Male     Spanish              17  3 to 5 criminal records   \n",
       "2   Male   Foreigner              16  1 or 2 criminal records   \n",
       "3   Male     Spanish              17       0 criminal records   \n",
       "4   Male     Spanish              16  3 to 5 criminal records   \n",
       "\n",
       "           main_crime_category main_crime_is_violent risk01_previous_violence  \\\n",
       "0  Nonviolent against property            No violent                 Moderate   \n",
       "1              Against persons               Violent                 Moderate   \n",
       "2  Nonviolent against property            No violent                      Low   \n",
       "3              Against persons               Violent                      Low   \n",
       "4  Nonviolent against property            No violent                 Moderate   \n",
       "\n",
       "  risk02_history_nonviolent_offences risk03_early_violence_before_14  \\\n",
       "0                           Moderate                             Low   \n",
       "1                           Moderate                             Low   \n",
       "2                                Low                             Low   \n",
       "3                                Low                             Low   \n",
       "4                           Moderate                             Low   \n",
       "\n",
       "  risk04_past_intervention_fail  ... sum_social_risk_items  \\\n",
       "0                           Low  ...                     3   \n",
       "1                      Moderate  ...                     5   \n",
       "2                           Low  ...                     4   \n",
       "3                           Low  ...                     1   \n",
       "4                           Low  ...                     2   \n",
       "\n",
       "  sum_individual_risk_items sum_all_risk_items sum_all_protective_items  \\\n",
       "0                         5                 12                        1   \n",
       "1                         6                 19                        4   \n",
       "2                         1                  9                        3   \n",
       "3                         5                  9                        2   \n",
       "4                         2                 13                        0   \n",
       "\n",
       "  professional_risk_evaluation recidivism recidivism_number_offences  \\\n",
       "0                          Low         No                          0   \n",
       "1                     Moderate        Yes                          1   \n",
       "2                          Low         No                          0   \n",
       "3                         High         No                          0   \n",
       "4                     Moderate         No                          0   \n",
       "\n",
       "  recidividm_category_first_offence recidivism_violence_first_offence  \\\n",
       "0                    Not applicable                    Not applicable   \n",
       "1                            Others                        No violent   \n",
       "2                    Not applicable                    Not applicable   \n",
       "3                    Not applicable                    Not applicable   \n",
       "4                    Not applicable                    Not applicable   \n",
       "\n",
       "  recidivism_severity  \n",
       "0                   0  \n",
       "1                   1  \n",
       "2                   0  \n",
       "3                   0  \n",
       "4                   0  \n",
       "\n",
       "[5 rows x 52 columns]"
      ]
     },
     "execution_count": 40,
     "metadata": {},
     "output_type": "execute_result"
    }
   ],
   "source": [
    "FILENAME_DATASET = '../Data/savry_cejfe_2017.csv'\n",
    "\n",
    "df = pd.read_csv(FILENAME_DATASET, sep='\\t', index_col=False)\n",
    "df.head()"
   ]
  },
  {
   "cell_type": "markdown",
   "metadata": {},
   "source": [
    "### 2.3.6 Descriptive statistics\n",
    "\n",
    "We will create a few histograms of some relevant attributes, feel free to explore more on your own."
   ]
  },
  {
   "cell_type": "code",
   "execution_count": 41,
   "metadata": {},
   "outputs": [
    {
     "name": "stdout",
     "output_type": "stream",
     "text": [
      "850\n"
     ]
    }
   ],
   "source": [
    "## Number of samples\n",
    "print(len(df))"
   ]
  },
  {
   "cell_type": "code",
   "execution_count": 42,
   "metadata": {},
   "outputs": [
    {
     "data": {
      "image/png": "[encoded data removed]",
      "text/plain": [
       "<Figure size 432x288 with 1 Axes>"
      ]
     },
     "metadata": {
      "needs_background": "light"
     },
     "output_type": "display_data"
    }
   ],
   "source": [
    "## Gender\n",
    "_ = df['gender'].value_counts(ascending=True).plot(kind='barh', title='Gender')"
   ]
  },
  {
   "cell_type": "code",
   "execution_count": 43,
   "metadata": {},
   "outputs": [
    {
     "data": {
      "image/png": "[encoded data removed]",
      "text/plain": [
       "<Figure size 432x288 with 1 Axes>"
      ]
     },
     "metadata": {
      "needs_background": "light"
     },
     "output_type": "display_data"
    }
   ],
   "source": [
    "## Nationality\n",
    "_ = df['nationality'].value_counts(ascending=True).plot(kind='barh', title='Nationality')"
   ]
  },
  {
   "cell_type": "code",
   "execution_count": 44,
   "metadata": {},
   "outputs": [
    {
     "data": {
      "image/png": "[encoded data removed]",
      "text/plain": [
       "<Figure size 432x288 with 1 Axes>"
      ]
     },
     "metadata": {
      "needs_background": "light"
     },
     "output_type": "display_data"
    }
   ],
   "source": [
    "## Age when commiting the main crime\n",
    "_ = df['main_crime_age'].value_counts(ascending=True).plot(kind='barh', title='Age of main crime')"
   ]
  },
  {
   "cell_type": "code",
   "execution_count": 45,
   "metadata": {},
   "outputs": [
    {
     "data": {
      "image/png": "[encoded data removed]",
      "text/plain": [
       "<Figure size 432x288 with 1 Axes>"
      ]
     },
     "metadata": {
      "needs_background": "light"
     },
     "output_type": "display_data"
    }
   ],
   "source": [
    "## Main crime category\n",
    "_ = df['main_crime_category'].value_counts(ascending=True).plot(kind='barh', title='Type of index crime')"
   ]
  },
  {
   "cell_type": "markdown",
   "metadata": {},
   "source": [
    "### 2.3.7 Features that are more connected to recidivism\n",
    "\n",
    "We use scikit-learn [Chi Squared test](https://scikit-learn.org/stable/modules/generated/sklearn.feature_selection.chi2.html). The p-values are interpreted as the strength of the feature, with smaller p-values indicating a better feature."
   ]
  },
  {
   "cell_type": "code",
   "execution_count": 46,
   "metadata": {},
   "outputs": [
    {
     "data": {
      "text/plain": [
       "sum_all_risk_items                               2.364020e-48\n",
       "sum_social_risk_items                            3.735096e-19\n",
       "sum_individual_risk_items                        9.627105e-19\n",
       "sum_historic_risk_items                          1.171836e-14\n",
       "sum_all_protective_items                         2.648334e-12\n",
       "criminal_records_More than 5 criminal records    2.994868e-10\n",
       "professional_risk_evaluation_High                3.066945e-09\n",
       "professional_risk_evaluation_Low                 2.545610e-07\n",
       "risk11_delinquency_peer_group_Low                1.141544e-06\n",
       "risk11_delinquency_peer_group_High               4.429592e-06\n",
       "dtype: float64"
      ]
     },
     "execution_count": 46,
     "metadata": {},
     "output_type": "execute_result"
    }
   ],
   "source": [
    "recidivism_details_columns = [\"recidivism_number_offences\", \"recidividm_category_first_offence\", \"recidivism_violence_first_offence\", \"recidivism_severity\"]\n",
    "\n",
    "X = pd.get_dummies(df.drop(columns=[\"recidivism\"] + recidivism_details_columns))\n",
    "y = pd.get_dummies(df[\"recidivism\"])[\"Yes\"]\n",
    "\n",
    "chisq, pval = chi2(X, y)\n",
    "\n",
    "feature_chi2 = pd.Series(pval, X.columns.values)\n",
    "feature_chi2.sort_values(0).head(10)"
   ]
  },
  {
   "cell_type": "markdown",
   "metadata": {},
   "source": [
    "### 2.3.8 Recidivism and human assessment\n",
    "\n",
    "The column `professional_risk_evaluation` is an evaluation done by a professional expert, based on the results of SAVRY but applying his/her own judgment independently of the obtained score.\n",
    "\n",
    "The expert rates each defendant as \"low\", \"medium\", or \"high\" risk. Ideally, defendants considered low risk should recidivate at a lower rate than defendants considered high risk."
   ]
  },
  {
   "cell_type": "code",
   "execution_count": 47,
   "metadata": {},
   "outputs": [
    {
     "data": {
      "image/png": "[encoded data removed]",
      "text/plain": [
       "<Figure size 432x288 with 1 Axes>"
      ]
     },
     "metadata": {
      "needs_background": "light"
     },
     "output_type": "display_data"
    }
   ],
   "source": [
    "human_ctable = pd.crosstab(df.professional_risk_evaluation, df.recidivism)\n",
    "human_ctable = human_ctable.reindex(index=[\"Low\", \"Moderate\", \"High\"])\n",
    "_ = human_ctable.plot(kind='barh', color=['blue', 'red'])"
   ]
  },
  {
   "cell_type": "code",
   "execution_count": null,
   "metadata": {},
   "outputs": [],
   "source": []
  },
  {
   "cell_type": "code",
   "execution_count": 48,
   "metadata": {},
   "outputs": [
    {
     "data": {
      "text/html": [
       "<div>\n",
       "<style scoped>\n",
       "    .dataframe tbody tr th:only-of-type {\n",
       "        vertical-align: middle;\n",
       "    }\n",
       "\n",
       "    .dataframe tbody tr th {\n",
       "        vertical-align: top;\n",
       "    }\n",
       "\n",
       "    .dataframe thead th {\n",
       "        text-align: right;\n",
       "    }\n",
       "</style>\n",
       "<table border=\"1\" class=\"dataframe\">\n",
       "  <thead>\n",
       "    <tr style=\"text-align: right;\">\n",
       "      <th>recidivism</th>\n",
       "      <th>No</th>\n",
       "      <th>Yes</th>\n",
       "      <th>recidivism_rate</th>\n",
       "    </tr>\n",
       "    <tr>\n",
       "      <th>professional_risk_evaluation</th>\n",
       "      <th></th>\n",
       "      <th></th>\n",
       "      <th></th>\n",
       "    </tr>\n",
       "  </thead>\n",
       "  <tbody>\n",
       "    <tr>\n",
       "      <th>Low</th>\n",
       "      <td>259</td>\n",
       "      <td>62</td>\n",
       "      <td>0.193146</td>\n",
       "    </tr>\n",
       "    <tr>\n",
       "      <th>Moderate</th>\n",
       "      <td>247</td>\n",
       "      <td>135</td>\n",
       "      <td>0.353403</td>\n",
       "    </tr>\n",
       "    <tr>\n",
       "      <th>High</th>\n",
       "      <td>65</td>\n",
       "      <td>82</td>\n",
       "      <td>0.557823</td>\n",
       "    </tr>\n",
       "  </tbody>\n",
       "</table>\n",
       "</div>"
      ],
      "text/plain": [
       "recidivism                     No  Yes  recidivism_rate\n",
       "professional_risk_evaluation                           \n",
       "Low                           259   62         0.193146\n",
       "Moderate                      247  135         0.353403\n",
       "High                           65   82         0.557823"
      ]
     },
     "execution_count": 48,
     "metadata": {},
     "output_type": "execute_result"
    }
   ],
   "source": [
    "human_ctable[\"recidivism_rate\"] = pd.Series(index=human_ctable.index, dtype=float)\n",
    "for index, row in human_ctable.iterrows():\n",
    "    recidivism_rate =row[\"Yes\"] / (row[\"Yes\"] + row[\"No\"])\n",
    "    human_ctable.at[index, \"recidivism_rate\"] = recidivism_rate\n",
    "    \n",
    "human_ctable"
   ]
  },
  {
   "cell_type": "markdown",
   "metadata": {},
   "source": [
    "### 2.3.9 Recidivism and overall score in structured assessment\n",
    "\n",
    "The column `sum_all_risk_items` contains a sum of scores in the risk items of SAVRY."
   ]
  },
  {
   "cell_type": "code",
   "execution_count": 49,
   "metadata": {},
   "outputs": [],
   "source": [
    "scores_recidivists = df[df[\"recidivism\"]=='Yes'][\"sum_all_risk_items\"].values\n",
    "scores_non_recidivists = df[df[\"recidivism\"]=='No'][\"sum_all_risk_items\"].values"
   ]
  },
  {
   "cell_type": "code",
   "execution_count": 50,
   "metadata": {},
   "outputs": [],
   "source": [
    "def compare_histograms(scores1, scores2, title, label1='Recidivists', label2='Non recidivists'):\n",
    "    plt.figure(figsize=(10,6))\n",
    "    plt.hist(scores1, histtype='step', label=label1, density=True, color='red')\n",
    "    plt.hist(scores2, histtype='step', label=label2, density=True, color='blue')\n",
    "    plt.legend(loc='upper right', fontsize='x-large')\n",
    "    plt.ylabel('Probability')\n",
    "    plt.xlabel(title)\n",
    "    plt.show()"
   ]
  },
  {
   "cell_type": "code",
   "execution_count": 51,
   "metadata": {},
   "outputs": [
    {
     "data": {
      "image/png": "[encoded data removed]",
      "text/plain": [
       "<Figure size 720x432 with 1 Axes>"
      ]
     },
     "metadata": {
      "needs_background": "light"
     },
     "output_type": "display_data"
    }
   ],
   "source": [
    "compare_histograms(scores_recidivists, scores_non_recidivists, 'Sum of all risk items')"
   ]
  },
  {
   "cell_type": "code",
   "execution_count": 52,
   "metadata": {},
   "outputs": [],
   "source": [
    "def draw_roc_curve( ground_truth, predictions, pos_label=\"Yes\"):\n",
    "    fpr, tpr, thresholds = roc_curve(ground_truth, predictions, pos_label=pos_label)\n",
    "    roc_auc = auc(fpr, tpr)\n",
    "\n",
    "    plt.figure(figsize=(10,6))\n",
    "    lw = 2\n",
    "    plt.plot(fpr, tpr, color='darkorange',\n",
    "             lw=lw, label='ROC curve (AUC = %0.2f)' % roc_auc)\n",
    "    plt.plot([0, 1], [0, 1], color='navy', lw=lw, linestyle='--')\n",
    "    plt.xlim([0.0, 1.0])\n",
    "    plt.ylim([0.0, 1.05])\n",
    "    plt.xlabel('False Positive Rate')\n",
    "    plt.ylabel('True Positive Rate')\n",
    "    plt.title('Receiver Operating Characteristic')\n",
    "    plt.legend(loc=\"lower right\", fontsize='x-large')\n",
    "    plt.show()\n",
    "    return roc_auc"
   ]
  },
  {
   "cell_type": "code",
   "execution_count": 53,
   "metadata": {},
   "outputs": [
    {
     "data": {
      "image/png": "[encoded data removed]",
      "text/plain": [
       "<Figure size 720x432 with 1 Axes>"
      ]
     },
     "metadata": {
      "needs_background": "light"
     },
     "output_type": "display_data"
    }
   ],
   "source": [
    "_ = draw_roc_curve(df[\"recidivism\"].values, df[\"sum_all_risk_items\"].values)"
   ]
  },
  {
   "cell_type": "markdown",
   "metadata": {},
   "source": [
    "### 2.3.10 Modeling recidivism using logistic regression\n",
    "Logistic regression is a simple yet effective classification model for this problem.\n",
    "\n",
    "In all cases above we will use the same training/testing split, which is done randomly, keeping 1/3 of the data for testing. You can repeat the following cells a couple of times to see how a different train/test split changes the AUC."
   ]
  },
  {
   "cell_type": "code",
   "execution_count": 54,
   "metadata": {},
   "outputs": [],
   "source": [
    "train, test = train_test_split(df, test_size=0.33)"
   ]
  },
  {
   "cell_type": "markdown",
   "metadata": {},
   "source": [
    "**Modeling recidivism (24 risk factors)**\n",
    "\n",
    "Now we model recidivism by using the 24 risk factors (attributes) in SAVRY.\n",
    "\n",
    "Note that the performance depends on the training/testing split which is done randomly, keeping 1/3 of the data for testing. Repeat the following cells a couple of times to see how a different train/test split changes the AUC."
   ]
  },
  {
   "cell_type": "code",
   "execution_count": 55,
   "metadata": {},
   "outputs": [],
   "source": [
    "risk_factor_columns = [\"risk01_previous_violence\", \"risk02_history_nonviolent_offences\",\n",
    "                       \"risk03_early_violence_before_14\", \"risk04_past_intervention_fail\",\n",
    "                       \"risk05_self_harm_suicide_attempts\", \"risk06_violence_at_home\",\n",
    "                       \"risk07_childhood_mistreatment\", \"risk08_criminal_parent_caregiver\",\n",
    "                       \"risk09_early_separation_parents\", \"risk10_poor_school_achievement\", \n",
    "                       \"risk11_delinquency_peer_group\", \"risk12_rejection_peer_group\",\n",
    "                       \"risk13_poor_stress_coping\", \"risk14_poor_parental_skills_parents\",\n",
    "                       \"risk15_lack_of_personal_social_support\", \"risk16_marginalized_environment\",\n",
    "                       \"risk17_negative_attitudes\", \"risk18_risk_taker_impulsive\",\n",
    "                       \"risk19_drug_abuse\", \"risk20_anger_management_issues\",\n",
    "                       \"risk21_low_empaty\", \"risk22_attention_deficit\",\n",
    "                       \"risk23_poor_compliance_interventions\", \"risk24_low_commitment_school\"]\n",
    "\n",
    "train_X = pd.get_dummies(train[risk_factor_columns])\n",
    "train_y = train[\"recidivism\"]\n",
    "\n",
    "test_X = pd.get_dummies(test[risk_factor_columns])\n",
    "test_y = test[\"recidivism\"]"
   ]
  },
  {
   "cell_type": "code",
   "execution_count": 56,
   "metadata": {},
   "outputs": [
    {
     "data": {
      "text/plain": [
       "LogisticRegression(solver='liblinear')"
      ]
     },
     "execution_count": 56,
     "metadata": {},
     "output_type": "execute_result"
    }
   ],
   "source": [
    "model = LogisticRegression(solver='liblinear')\n",
    "model.fit(train_X, train_y)"
   ]
  },
  {
   "cell_type": "code",
   "execution_count": 57,
   "metadata": {},
   "outputs": [],
   "source": [
    "pred24_y = model.predict_proba(test_X)[:,1]\n",
    "\n",
    "# Deprecated\n",
    "#pred24_recidivists = pred24_y[test_y == 'Yes']\n",
    "#pred24_non_recidivists = pred24_y[test_y == 'No']\n",
    "\n",
    "\n",
    "pred24_recidivists=[]\n",
    "pred24_non_recidivists=[]\n",
    "for i in range(len(test_y)):\n",
    "    if test_y.iloc[i] == 'Yes':\n",
    "        pred24_recidivists.append(pred24_y[i])\n",
    "    elif test_y.iloc[i] == 'No':\n",
    "        pred24_non_recidivists.append(pred24_y[i])\n",
    "    else:\n",
    "        raise(pred24_y[i])"
   ]
  },
  {
   "cell_type": "code",
   "execution_count": 58,
   "metadata": {},
   "outputs": [
    {
     "data": {
      "image/png": "[encoded data removed]",
      "text/plain": [
       "<Figure size 720x432 with 1 Axes>"
      ]
     },
     "metadata": {
      "needs_background": "light"
     },
     "output_type": "display_data"
    }
   ],
   "source": [
    "compare_histograms(pred24_recidivists, pred24_non_recidivists, 'Prediction')"
   ]
  },
  {
   "cell_type": "code",
   "execution_count": 59,
   "metadata": {},
   "outputs": [
    {
     "data": {
      "image/png": "[encoded data removed]",
      "text/plain": [
       "<Figure size 720x432 with 1 Axes>"
      ]
     },
     "metadata": {
      "needs_background": "light"
     },
     "output_type": "display_data"
    }
   ],
   "source": [
    "_ = draw_roc_curve(test_y, pred24_y)"
   ]
  },
  {
   "cell_type": "markdown",
   "metadata": {},
   "source": [
    "**Modeling recidivism (personal history factors)**\n",
    "\n",
    "Next we use demographic factors: gender and nationality, as well as criminal history factors such as the age of commission of the index crime and its type, as well as whether the juvenile defendant has criminal records."
   ]
  },
  {
   "cell_type": "code",
   "execution_count": 60,
   "metadata": {},
   "outputs": [],
   "source": [
    "demographic_columns = [\"gender\", \"nationality\", \"main_crime_age\", \"criminal_records\",\n",
    "                       \"main_crime_category\", \"main_crime_is_violent\"]\n",
    "                       \n",
    "train_X = pd.get_dummies(train[demographic_columns])\n",
    "train_y = train[\"recidivism\"]\n",
    "\n",
    "test_X = pd.get_dummies(test[demographic_columns])\n",
    "test_y = test[\"recidivism\"]"
   ]
  },
  {
   "cell_type": "code",
   "execution_count": 61,
   "metadata": {},
   "outputs": [
    {
     "data": {
      "text/plain": [
       "LogisticRegression(solver='liblinear')"
      ]
     },
     "execution_count": 61,
     "metadata": {},
     "output_type": "execute_result"
    }
   ],
   "source": [
    "model = LogisticRegression(solver='liblinear')\n",
    "model.fit(train_X, train_y)"
   ]
  },
  {
   "cell_type": "code",
   "execution_count": 62,
   "metadata": {},
   "outputs": [],
   "source": [
    "predPH_y = model.predict_proba(test_X)[:,1]\n",
    "\n",
    "\n",
    "predPH_recidivists=[]\n",
    "predPH_non_recidivists=[]\n",
    "for i in range(len(test_y)):\n",
    "    if test_y.iloc[i] == 'Yes':\n",
    "        predPH_recidivists.append(predPH_y[i])\n",
    "    elif test_y.iloc[i] == 'No':\n",
    "        predPH_non_recidivists.append(predPH_y[i])\n",
    "    else:\n",
    "        raise(predPH_y[i])"
   ]
  },
  {
   "cell_type": "code",
   "execution_count": 52,
   "metadata": {},
   "outputs": [
    {
     "data": {
      "image/png": "[encoded data removed]",
      "text/plain": [
       "<Figure size 720x432 with 1 Axes>"
      ]
     },
     "metadata": {
      "needs_background": "light"
     },
     "output_type": "display_data"
    }
   ],
   "source": [
    "compare_histograms(predPH_recidivists, predPH_non_recidivists, 'Prediction')"
   ]
  },
  {
   "cell_type": "code",
   "execution_count": 63,
   "metadata": {},
   "outputs": [
    {
     "data": {
      "image/png": "[encoded data removed]",
      "text/plain": [
       "<Figure size 720x432 with 1 Axes>"
      ]
     },
     "metadata": {
      "needs_background": "light"
     },
     "output_type": "display_data"
    }
   ],
   "source": [
    "_ = draw_roc_curve(test_y, predPH_y)"
   ]
  },
  {
   "cell_type": "markdown",
   "metadata": {},
   "source": [
    "**Modeling recidivism (personal history + 24 risk factors + 6 protective factors)**\n",
    "\n",
    "We now add to the above 6 \"protective\" or positive factors that are associated with a low risk."
   ]
  },
  {
   "cell_type": "code",
   "execution_count": 64,
   "metadata": {},
   "outputs": [],
   "source": [
    "protective_factor_columns = [\"protective01_prosocial_activities\", \"protective02_strong_social_support\",\n",
    "                             \"protective03_strong_link_prosocial_adult\", \"protective04_positive_attitude_interventions\",\n",
    "                             \"protective05_high_commitment_school_or_work\", \"protective06_perseverant_personality\"]\n",
    "\n",
    "factors = demographic_columns + risk_factor_columns + protective_factor_columns\n",
    "\n",
    "train_X = pd.get_dummies(train[factors])\n",
    "train_y = train[\"recidivism\"]\n",
    "\n",
    "test_X = pd.get_dummies(test[factors])\n",
    "test_y = test[\"recidivism\"]"
   ]
  },
  {
   "cell_type": "code",
   "execution_count": 65,
   "metadata": {},
   "outputs": [
    {
     "data": {
      "text/plain": [
       "LogisticRegression(solver='liblinear')"
      ]
     },
     "execution_count": 65,
     "metadata": {},
     "output_type": "execute_result"
    }
   ],
   "source": [
    "model = LogisticRegression(solver='liblinear')\n",
    "model.fit(train_X, train_y)"
   ]
  },
  {
   "cell_type": "code",
   "execution_count": 66,
   "metadata": {},
   "outputs": [],
   "source": [
    "predALL_y = model.predict_proba(test_X)[:,1]\n",
    "\n",
    "# Deprecated\n",
    "#predALL_recidivists = predALL_y[test_y == 'Yes']\n",
    "#predALL_non_recidivists = predALL_y[test_y == 'No']\n",
    "\n",
    "predALL_recidivists=[]\n",
    "predALL_non_recidivists=[]\n",
    "for i in range(len(test_y)):\n",
    "    if test_y.iloc[i] == 'Yes':\n",
    "        predALL_recidivists.append(predALL_y[i])\n",
    "    elif test_y.iloc[i] == 'No':\n",
    "        predALL_non_recidivists.append(predALL_y[i])\n",
    "    else:\n",
    "        raise(predALL_y[i])"
   ]
  },
  {
   "cell_type": "code",
   "execution_count": 67,
   "metadata": {},
   "outputs": [
    {
     "data": {
      "image/png": "[encoded data removed]",
      "text/plain": [
       "<Figure size 720x432 with 1 Axes>"
      ]
     },
     "metadata": {
      "needs_background": "light"
     },
     "output_type": "display_data"
    }
   ],
   "source": [
    "compare_histograms(predALL_recidivists, predALL_non_recidivists, 'Prediction')"
   ]
  },
  {
   "cell_type": "code",
   "execution_count": 68,
   "metadata": {},
   "outputs": [
    {
     "data": {
      "image/png": "[encoded data removed]",
      "text/plain": [
       "<Figure size 720x432 with 1 Axes>"
      ]
     },
     "metadata": {
      "needs_background": "light"
     },
     "output_type": "display_data"
    }
   ],
   "source": [
    "_ = draw_roc_curve(test_y, predALL_y)"
   ]
  },
  {
   "cell_type": "markdown",
   "metadata": {},
   "source": [
    "### 2.3.11 Recidivism rates are different per sub-populations\n",
    "\n",
    "We remark that fairness is not necessarily that people in different groups obtain the same outcomes. For instance, in this dataset, women recidivate at about half the rate as men, and foreigners at a much higher rate than nationals."
   ]
  },
  {
   "cell_type": "code",
   "execution_count": 69,
   "metadata": {},
   "outputs": [
    {
     "data": {
      "text/html": [
       "<div>\n",
       "<style scoped>\n",
       "    .dataframe tbody tr th:only-of-type {\n",
       "        vertical-align: middle;\n",
       "    }\n",
       "\n",
       "    .dataframe tbody tr th {\n",
       "        vertical-align: top;\n",
       "    }\n",
       "\n",
       "    .dataframe thead th {\n",
       "        text-align: right;\n",
       "    }\n",
       "</style>\n",
       "<table border=\"1\" class=\"dataframe\">\n",
       "  <thead>\n",
       "    <tr style=\"text-align: right;\">\n",
       "      <th>gender</th>\n",
       "      <th>Female</th>\n",
       "      <th>Male</th>\n",
       "    </tr>\n",
       "    <tr>\n",
       "      <th>recidivism</th>\n",
       "      <th></th>\n",
       "      <th></th>\n",
       "    </tr>\n",
       "  </thead>\n",
       "  <tbody>\n",
       "    <tr>\n",
       "      <th>No</th>\n",
       "      <td>90</td>\n",
       "      <td>481</td>\n",
       "    </tr>\n",
       "    <tr>\n",
       "      <th>Yes</th>\n",
       "      <td>18</td>\n",
       "      <td>261</td>\n",
       "    </tr>\n",
       "  </tbody>\n",
       "</table>\n",
       "</div>"
      ],
      "text/plain": [
       "gender      Female  Male\n",
       "recidivism              \n",
       "No              90   481\n",
       "Yes             18   261"
      ]
     },
     "execution_count": 69,
     "metadata": {},
     "output_type": "execute_result"
    }
   ],
   "source": [
    "recidivism_by_gender = pd.crosstab(df.recidivism, df.gender)\n",
    "recidivism_by_gender"
   ]
  },
  {
   "cell_type": "code",
   "execution_count": 70,
   "metadata": {},
   "outputs": [
    {
     "data": {
      "text/html": [
       "<div>\n",
       "<style scoped>\n",
       "    .dataframe tbody tr th:only-of-type {\n",
       "        vertical-align: middle;\n",
       "    }\n",
       "\n",
       "    .dataframe tbody tr th {\n",
       "        vertical-align: top;\n",
       "    }\n",
       "\n",
       "    .dataframe thead th {\n",
       "        text-align: right;\n",
       "    }\n",
       "</style>\n",
       "<table border=\"1\" class=\"dataframe\">\n",
       "  <thead>\n",
       "    <tr style=\"text-align: right;\">\n",
       "      <th>gender</th>\n",
       "      <th>Female</th>\n",
       "      <th>Male</th>\n",
       "    </tr>\n",
       "    <tr>\n",
       "      <th>recidivism</th>\n",
       "      <th></th>\n",
       "      <th></th>\n",
       "    </tr>\n",
       "  </thead>\n",
       "  <tbody>\n",
       "    <tr>\n",
       "      <th>No</th>\n",
       "      <td>0.833333</td>\n",
       "      <td>0.648248</td>\n",
       "    </tr>\n",
       "    <tr>\n",
       "      <th>Yes</th>\n",
       "      <td>0.166667</td>\n",
       "      <td>0.351752</td>\n",
       "    </tr>\n",
       "  </tbody>\n",
       "</table>\n",
       "</div>"
      ],
      "text/plain": [
       "gender        Female      Male\n",
       "recidivism                    \n",
       "No          0.833333  0.648248\n",
       "Yes         0.166667  0.351752"
      ]
     },
     "execution_count": 70,
     "metadata": {},
     "output_type": "execute_result"
    }
   ],
   "source": [
    "recidivism_by_gender['Female'] = recidivism_by_gender['Female'] / recidivism_by_gender['Female'].sum()\n",
    "recidivism_by_gender['Male'] = recidivism_by_gender['Male'] / recidivism_by_gender['Male'].sum()\n",
    "recidivism_by_gender"
   ]
  },
  {
   "cell_type": "code",
   "execution_count": 71,
   "metadata": {},
   "outputs": [
    {
     "data": {
      "text/html": [
       "<div>\n",
       "<style scoped>\n",
       "    .dataframe tbody tr th:only-of-type {\n",
       "        vertical-align: middle;\n",
       "    }\n",
       "\n",
       "    .dataframe tbody tr th {\n",
       "        vertical-align: top;\n",
       "    }\n",
       "\n",
       "    .dataframe thead th {\n",
       "        text-align: right;\n",
       "    }\n",
       "</style>\n",
       "<table border=\"1\" class=\"dataframe\">\n",
       "  <thead>\n",
       "    <tr style=\"text-align: right;\">\n",
       "      <th>nationality</th>\n",
       "      <th>Foreigner</th>\n",
       "      <th>Spanish</th>\n",
       "    </tr>\n",
       "    <tr>\n",
       "      <th>recidivism</th>\n",
       "      <th></th>\n",
       "      <th></th>\n",
       "    </tr>\n",
       "  </thead>\n",
       "  <tbody>\n",
       "    <tr>\n",
       "      <th>No</th>\n",
       "      <td>189</td>\n",
       "      <td>382</td>\n",
       "    </tr>\n",
       "    <tr>\n",
       "      <th>Yes</th>\n",
       "      <td>141</td>\n",
       "      <td>138</td>\n",
       "    </tr>\n",
       "  </tbody>\n",
       "</table>\n",
       "</div>"
      ],
      "text/plain": [
       "nationality  Foreigner  Spanish\n",
       "recidivism                     \n",
       "No                 189      382\n",
       "Yes                141      138"
      ]
     },
     "execution_count": 71,
     "metadata": {},
     "output_type": "execute_result"
    }
   ],
   "source": [
    "recidivism_by_nationality = pd.crosstab(df.recidivism, df.nationality)\n",
    "recidivism_by_nationality"
   ]
  },
  {
   "cell_type": "code",
   "execution_count": 72,
   "metadata": {},
   "outputs": [
    {
     "data": {
      "text/html": [
       "<div>\n",
       "<style scoped>\n",
       "    .dataframe tbody tr th:only-of-type {\n",
       "        vertical-align: middle;\n",
       "    }\n",
       "\n",
       "    .dataframe tbody tr th {\n",
       "        vertical-align: top;\n",
       "    }\n",
       "\n",
       "    .dataframe thead th {\n",
       "        text-align: right;\n",
       "    }\n",
       "</style>\n",
       "<table border=\"1\" class=\"dataframe\">\n",
       "  <thead>\n",
       "    <tr style=\"text-align: right;\">\n",
       "      <th>nationality</th>\n",
       "      <th>Foreigner</th>\n",
       "      <th>Spanish</th>\n",
       "    </tr>\n",
       "    <tr>\n",
       "      <th>recidivism</th>\n",
       "      <th></th>\n",
       "      <th></th>\n",
       "    </tr>\n",
       "  </thead>\n",
       "  <tbody>\n",
       "    <tr>\n",
       "      <th>No</th>\n",
       "      <td>0.572727</td>\n",
       "      <td>0.734615</td>\n",
       "    </tr>\n",
       "    <tr>\n",
       "      <th>Yes</th>\n",
       "      <td>0.427273</td>\n",
       "      <td>0.265385</td>\n",
       "    </tr>\n",
       "  </tbody>\n",
       "</table>\n",
       "</div>"
      ],
      "text/plain": [
       "nationality  Foreigner   Spanish\n",
       "recidivism                      \n",
       "No            0.572727  0.734615\n",
       "Yes           0.427273  0.265385"
      ]
     },
     "execution_count": 72,
     "metadata": {},
     "output_type": "execute_result"
    }
   ],
   "source": [
    "recidivism_by_nationality['Spanish'] = recidivism_by_nationality['Spanish'] / recidivism_by_nationality['Spanish'].sum()\n",
    "recidivism_by_nationality['Foreigner'] = recidivism_by_nationality['Foreigner'] / recidivism_by_nationality['Foreigner'].sum()\n",
    "recidivism_by_nationality"
   ]
  },
  {
   "cell_type": "markdown",
   "metadata": {},
   "source": [
    "### 2.3.12 Fairness as equality of error rates\n",
    "\n",
    "We look at fairness as **equality of error rates**, in this case false positive rates, following [Zafar et al. 2017](https://doi.org/10.1145/3038912.3052660) and [Hardt et al. 2016](http://papers.nips.cc/paper/6373-equality-of-opportunity-in-supervised-learning)."
   ]
  },
  {
   "cell_type": "markdown",
   "metadata": {},
   "source": [
    "###  Professional (human expert) recidivism prediction and fairness\n",
    "\n",
    "We consider people who did not recidivate, in particular, look at those who were given a \"high\" risk by the expert."
   ]
  },
  {
   "cell_type": "code",
   "execution_count": 73,
   "metadata": {},
   "outputs": [
    {
     "data": {
      "text/html": [
       "<div>\n",
       "<style scoped>\n",
       "    .dataframe tbody tr th:only-of-type {\n",
       "        vertical-align: middle;\n",
       "    }\n",
       "\n",
       "    .dataframe tbody tr th {\n",
       "        vertical-align: top;\n",
       "    }\n",
       "\n",
       "    .dataframe thead th {\n",
       "        text-align: right;\n",
       "    }\n",
       "</style>\n",
       "<table border=\"1\" class=\"dataframe\">\n",
       "  <thead>\n",
       "    <tr style=\"text-align: right;\">\n",
       "      <th>gender</th>\n",
       "      <th>Female</th>\n",
       "      <th>Male</th>\n",
       "    </tr>\n",
       "    <tr>\n",
       "      <th>professional_risk_evaluation</th>\n",
       "      <th></th>\n",
       "      <th></th>\n",
       "    </tr>\n",
       "  </thead>\n",
       "  <tbody>\n",
       "    <tr>\n",
       "      <th>High</th>\n",
       "      <td>9</td>\n",
       "      <td>56</td>\n",
       "    </tr>\n",
       "    <tr>\n",
       "      <th>Low</th>\n",
       "      <td>44</td>\n",
       "      <td>215</td>\n",
       "    </tr>\n",
       "    <tr>\n",
       "      <th>Moderate</th>\n",
       "      <td>37</td>\n",
       "      <td>210</td>\n",
       "    </tr>\n",
       "  </tbody>\n",
       "</table>\n",
       "</div>"
      ],
      "text/plain": [
       "gender                        Female  Male\n",
       "professional_risk_evaluation              \n",
       "High                               9    56\n",
       "Low                               44   215\n",
       "Moderate                          37   210"
      ]
     },
     "execution_count": 73,
     "metadata": {},
     "output_type": "execute_result"
    }
   ],
   "source": [
    "non_recidivists = df[df[\"recidivism\"] == 'No']\n",
    "non_recidivists_expert_by_gender = pd.crosstab(non_recidivists.professional_risk_evaluation, non_recidivists.gender)\n",
    "non_recidivists_expert_by_gender.reindex(index=[\"Low\", \"Moderate\", \"High\"])\n",
    "non_recidivists_expert_by_gender"
   ]
  },
  {
   "cell_type": "code",
   "execution_count": 74,
   "metadata": {},
   "outputs": [
    {
     "data": {
      "text/html": [
       "<div>\n",
       "<style scoped>\n",
       "    .dataframe tbody tr th:only-of-type {\n",
       "        vertical-align: middle;\n",
       "    }\n",
       "\n",
       "    .dataframe tbody tr th {\n",
       "        vertical-align: top;\n",
       "    }\n",
       "\n",
       "    .dataframe thead th {\n",
       "        text-align: right;\n",
       "    }\n",
       "</style>\n",
       "<table border=\"1\" class=\"dataframe\">\n",
       "  <thead>\n",
       "    <tr style=\"text-align: right;\">\n",
       "      <th>gender</th>\n",
       "      <th>Female</th>\n",
       "      <th>Male</th>\n",
       "    </tr>\n",
       "    <tr>\n",
       "      <th>professional_risk_evaluation</th>\n",
       "      <th></th>\n",
       "      <th></th>\n",
       "    </tr>\n",
       "  </thead>\n",
       "  <tbody>\n",
       "    <tr>\n",
       "      <th>High</th>\n",
       "      <td>0.100000</td>\n",
       "      <td>0.116424</td>\n",
       "    </tr>\n",
       "    <tr>\n",
       "      <th>Low</th>\n",
       "      <td>0.488889</td>\n",
       "      <td>0.446985</td>\n",
       "    </tr>\n",
       "    <tr>\n",
       "      <th>Moderate</th>\n",
       "      <td>0.411111</td>\n",
       "      <td>0.436590</td>\n",
       "    </tr>\n",
       "  </tbody>\n",
       "</table>\n",
       "</div>"
      ],
      "text/plain": [
       "gender                          Female      Male\n",
       "professional_risk_evaluation                    \n",
       "High                          0.100000  0.116424\n",
       "Low                           0.488889  0.446985\n",
       "Moderate                      0.411111  0.436590"
      ]
     },
     "execution_count": 74,
     "metadata": {},
     "output_type": "execute_result"
    }
   ],
   "source": [
    "non_recidivists_expert_by_gender[\"Male\"] = non_recidivists_expert_by_gender[\"Male\"] / non_recidivists_expert_by_gender[\"Male\"].sum()\n",
    "non_recidivists_expert_by_gender[\"Female\"] = non_recidivists_expert_by_gender[\"Female\"] / non_recidivists_expert_by_gender[\"Female\"].sum()\n",
    "non_recidivists_expert_by_gender"
   ]
  },
  {
   "cell_type": "code",
   "execution_count": 75,
   "metadata": {},
   "outputs": [
    {
     "data": {
      "text/html": [
       "<div>\n",
       "<style scoped>\n",
       "    .dataframe tbody tr th:only-of-type {\n",
       "        vertical-align: middle;\n",
       "    }\n",
       "\n",
       "    .dataframe tbody tr th {\n",
       "        vertical-align: top;\n",
       "    }\n",
       "\n",
       "    .dataframe thead th {\n",
       "        text-align: right;\n",
       "    }\n",
       "</style>\n",
       "<table border=\"1\" class=\"dataframe\">\n",
       "  <thead>\n",
       "    <tr style=\"text-align: right;\">\n",
       "      <th>nationality</th>\n",
       "      <th>Foreigner</th>\n",
       "      <th>Spanish</th>\n",
       "    </tr>\n",
       "    <tr>\n",
       "      <th>professional_risk_evaluation</th>\n",
       "      <th></th>\n",
       "      <th></th>\n",
       "    </tr>\n",
       "  </thead>\n",
       "  <tbody>\n",
       "    <tr>\n",
       "      <th>High</th>\n",
       "      <td>22</td>\n",
       "      <td>43</td>\n",
       "    </tr>\n",
       "    <tr>\n",
       "      <th>Low</th>\n",
       "      <td>88</td>\n",
       "      <td>171</td>\n",
       "    </tr>\n",
       "    <tr>\n",
       "      <th>Moderate</th>\n",
       "      <td>79</td>\n",
       "      <td>168</td>\n",
       "    </tr>\n",
       "  </tbody>\n",
       "</table>\n",
       "</div>"
      ],
      "text/plain": [
       "nationality                   Foreigner  Spanish\n",
       "professional_risk_evaluation                    \n",
       "High                                 22       43\n",
       "Low                                  88      171\n",
       "Moderate                             79      168"
      ]
     },
     "execution_count": 75,
     "metadata": {},
     "output_type": "execute_result"
    }
   ],
   "source": [
    "non_recidivists_expert_by_nationality = pd.crosstab(non_recidivists.professional_risk_evaluation, non_recidivists.nationality)\n",
    "non_recidivists_expert_by_nationality.reindex(index=[\"Low\", \"Moderate\", \"High\"])\n",
    "non_recidivists_expert_by_nationality"
   ]
  },
  {
   "cell_type": "code",
   "execution_count": 76,
   "metadata": {},
   "outputs": [
    {
     "data": {
      "text/html": [
       "<div>\n",
       "<style scoped>\n",
       "    .dataframe tbody tr th:only-of-type {\n",
       "        vertical-align: middle;\n",
       "    }\n",
       "\n",
       "    .dataframe tbody tr th {\n",
       "        vertical-align: top;\n",
       "    }\n",
       "\n",
       "    .dataframe thead th {\n",
       "        text-align: right;\n",
       "    }\n",
       "</style>\n",
       "<table border=\"1\" class=\"dataframe\">\n",
       "  <thead>\n",
       "    <tr style=\"text-align: right;\">\n",
       "      <th>nationality</th>\n",
       "      <th>Foreigner</th>\n",
       "      <th>Spanish</th>\n",
       "    </tr>\n",
       "    <tr>\n",
       "      <th>professional_risk_evaluation</th>\n",
       "      <th></th>\n",
       "      <th></th>\n",
       "    </tr>\n",
       "  </thead>\n",
       "  <tbody>\n",
       "    <tr>\n",
       "      <th>High</th>\n",
       "      <td>0.116402</td>\n",
       "      <td>0.112565</td>\n",
       "    </tr>\n",
       "    <tr>\n",
       "      <th>Low</th>\n",
       "      <td>0.465608</td>\n",
       "      <td>0.447644</td>\n",
       "    </tr>\n",
       "    <tr>\n",
       "      <th>Moderate</th>\n",
       "      <td>0.417989</td>\n",
       "      <td>0.439791</td>\n",
       "    </tr>\n",
       "  </tbody>\n",
       "</table>\n",
       "</div>"
      ],
      "text/plain": [
       "nationality                   Foreigner   Spanish\n",
       "professional_risk_evaluation                     \n",
       "High                           0.116402  0.112565\n",
       "Low                            0.465608  0.447644\n",
       "Moderate                       0.417989  0.439791"
      ]
     },
     "execution_count": 76,
     "metadata": {},
     "output_type": "execute_result"
    }
   ],
   "source": [
    "non_recidivists_expert_by_nationality[\"Spanish\"] = non_recidivists_expert_by_nationality[\"Spanish\"] / non_recidivists_expert_by_nationality[\"Spanish\"].sum()\n",
    "non_recidivists_expert_by_nationality[\"Foreigner\"] = non_recidivists_expert_by_nationality[\"Foreigner\"] / non_recidivists_expert_by_nationality[\"Foreigner\"].sum()\n",
    "non_recidivists_expert_by_nationality"
   ]
  },
  {
   "cell_type": "markdown",
   "metadata": {},
   "source": [
    "### Overall SAVRY score and fairness\n",
    "\n",
    "What we compute here is a sort of generalized false positive rate, i.e., the sumation of the scores for the people who ended up being negative (non-recidivist).\n"
   ]
  },
  {
   "cell_type": "code",
   "execution_count": 77,
   "metadata": {},
   "outputs": [
    {
     "name": "stdout",
     "output_type": "stream",
     "text": [
      "Average SAVRY score of national non-recidivist: 14.29\n",
      "Average SAVRY score of foreigner non-recidivist: 14.41\n"
     ]
    }
   ],
   "source": [
    "scores_nationals_non_recidivists = df[(df[\"recidivism\"]=='No') &\n",
    "                                      (df[\"nationality\"]=='Spanish')][\"sum_all_risk_items\"].values\n",
    "scores_foreigners_non_recidivists = df[(df[\"recidivism\"]=='No') &\n",
    "                                       (df[\"nationality\"]=='Foreigner')][\"sum_all_risk_items\"].values\n",
    "\n",
    "print(\"Average SAVRY score of national non-recidivist: %.2f\" %\n",
    "      (scores_nationals_non_recidivists.sum() / len(scores_nationals_non_recidivists)))\n",
    "       \n",
    "print(\"Average SAVRY score of foreigner non-recidivist: %.2f\" % \n",
    "      (scores_foreigners_non_recidivists.sum() / len(scores_foreigners_non_recidivists)))"
   ]
  },
  {
   "cell_type": "code",
   "execution_count": 78,
   "metadata": {},
   "outputs": [
    {
     "data": {
      "image/png": "[encoded data removed]",
      "text/plain": [
       "<Figure size 720x432 with 1 Axes>"
      ]
     },
     "metadata": {
      "needs_background": "light"
     },
     "output_type": "display_data"
    }
   ],
   "source": [
    "compare_histograms(scores_nationals_non_recidivists, scores_foreigners_non_recidivists,\n",
    "                   \"Non-recidivists overall score\",\n",
    "                   label1=\"Nationals\", label2=\"Foreigners\")"
   ]
  },
  {
   "cell_type": "markdown",
   "metadata": {},
   "source": [
    "### Fairness using ML score"
   ]
  },
  {
   "cell_type": "code",
   "execution_count": 79,
   "metadata": {},
   "outputs": [
    {
     "name": "stdout",
     "output_type": "stream",
     "text": [
      "Average predicted probability of national non-recidivist: 0.26\n",
      "Average predicted probability of foreigner non-recidivist: 0.41\n"
     ]
    }
   ],
   "source": [
    "predPH_nationals_non_recidivists = predPH_y[(test_y=='No') & (test_X[\"nationality_Spanish\"]==1)]\n",
    "predPH_foreigners_non_recidivists = predPH_y[(test_y=='No') & (test_X[\"nationality_Foreigner\"]==1)]\n",
    "\n",
    "print(\"Average predicted probability of national non-recidivist: %.2f\" %\n",
    "      (predPH_nationals_non_recidivists.sum() / len(predPH_nationals_non_recidivists)))\n",
    "       \n",
    "print(\"Average predicted probability of foreigner non-recidivist: %.2f\" % \n",
    "      (predPH_foreigners_non_recidivists.sum() / len(predPH_foreigners_non_recidivists)))"
   ]
  },
  {
   "cell_type": "code",
   "execution_count": 80,
   "metadata": {},
   "outputs": [
    {
     "data": {
      "image/png": "[encoded data removed]",
      "text/plain": [
       "<Figure size 720x432 with 1 Axes>"
      ]
     },
     "metadata": {
      "needs_background": "light"
     },
     "output_type": "display_data"
    }
   ],
   "source": [
    "compare_histograms(predPH_nationals_non_recidivists, predPH_foreigners_non_recidivists,\n",
    "                   \"Non-recidivists overall prediction\",\n",
    "                   label1=\"Nationals\", label2=\"Foreigners\")"
   ]
  },
  {
   "cell_type": "markdown",
   "metadata": {},
   "source": [
    "### Tasks to deliver (5 points):\n",
    "<div class=\"alert alert-block alert-success\">\n",
    "    Try two of the following suggested activities:\n",
    "\n",
    "<ul>\n",
    "<li>A. Determine the relationship between human risk assessment (`professional_risk_evaluation`) and SAVRY total score (`sum_all_risk_items`).\n",
    "\n",
    "* Plot the distribution of SAVRY total for cases where the human said low, medium, or high risk\n",
    "\n",
    "</li>\n",
    "\n",
    "<li>B. Consider the prediction of violent crimes only. SAVRY was designed to predict violence, not general recidivism.\n",
    "<br>\n",
    "* Consider that the person had violent recidivism if it committed either a crime against persons or a violent crime against property, otherwise, there was no violent recidivism.\n",
    "</li>\n",
    "\n",
    "<li>C. Study false negatives: people given low scores but that did recidivate.\n",
    "    <br>\n",
    "* Indicate what are the characteristics of this group of people that have false negatives.\n",
    "</li>\n",
    "\n",
    "<li>D. Find out if some offences are harder to predict than others\n",
    "    <br>\n",
    "* Try to create a predictive model specific to each type of offense.\n",
    "</li>\n",
    "\n",
    "<li>E. Try using the `recidivism_severity` variable as a target\n",
    "    <br>\n",
    "* This will be a multiclass problem, i.e., the target will not be binary.\n",
    "</li>\n",
    "\n",
    "<li>F. Try using cross-validation to have a better evaluation of the logistic regression classifier, or doing repeatedly random splits and averaging the results.\n",
    "</li>\n",
    "\n",
    "<li>G. Try other machine learning models such as SVM or neural networks.\n",
    "</li>\n",
    "                                                                                                                                                                 \n",
    "</ul>                                                                         \n",
    "                                                                                  \n",
    "</div>"
   ]
  },
  {
   "cell_type": "code",
   "execution_count": 81,
   "metadata": {},
   "outputs": [],
   "source": [
    "## Your code here for the first activity:"
   ]
  },
  {
   "cell_type": "code",
   "execution_count": 82,
   "metadata": {},
   "outputs": [],
   "source": [
    "## Your code here for the second activity:"
   ]
  },
  {
   "cell_type": "markdown",
   "metadata": {},
   "source": [
    "# Credits\n",
    "\n",
    "The data file we use is a subset of data obtained by the *Centre d'Estudis Jurídics i Formació Especialitzada* of the Catalan government and released in 2017. Do not use this dataset for research, instead, use the [original dataset](http://cejfe.gencat.cat/en/recerca/cataleg/crono/2017/reincidencia-jj/) and cite the following publication:\n",
    "\n",
    "```\n",
    "@misc{cejfe_2017_savry,\n",
    " title={La reincid\\`{e}ncia en la just\\'{i}cia de menors},\n",
    " author={Marta Blanch and Manel Capdevila and Marta Ferrer and Berta Framis and \\'{U}rsula Ruiz and Judit Mora and Ares Batlle and Berta L\\'{o}pez},\n",
    " year={2017},\n",
    " howpublished={CEJFE},\n",
    " url={http://cejfe.gencat.cat/en/recerca/cataleg/crono/2017/reincidencia-jj/}\n",
    "}\n",
    "```\n",
    "\n",
    "This Python Notebook is provided under a [Creative Commons License](https://creativecommons.org/licenses/by/4.0/)."
   ]
  },
  {
   "cell_type": "code",
   "execution_count": null,
   "metadata": {},
   "outputs": [],
   "source": []
  }
 ],
 "metadata": {
  "kernelspec": {
   "display_name": "Python 3",
   "language": "python",
   "name": "python3"
  },
  "language_info": {
   "codemirror_mode": {
    "name": "ipython",
    "version": 3
   },
   "file_extension": ".py",
   "mimetype": "text/x-python",
   "name": "python",
   "nbconvert_exporter": "python",
   "pygments_lexer": "ipython3",
   "version": "3.6.8"
  }
 },
 "nbformat": 4,
 "nbformat_minor": 2
}
